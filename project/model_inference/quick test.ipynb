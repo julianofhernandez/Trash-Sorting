{
 "cells": [
  {
   "cell_type": "code",
   "execution_count": 1,
   "id": "1f58cfb4-98a2-445f-a00b-0778217e352e",
   "metadata": {},
   "outputs": [],
   "source": [
    "import requests\n",
    "import numpy as np\n",
    "import json\n",
    "from io import BytesIO"
   ]
  },
  {
   "cell_type": "code",
   "execution_count": 4,
   "id": "84294d08-294c-49a4-aaba-f651ca371004",
   "metadata": {},
   "outputs": [
    {
     "data": {
      "text/plain": [
       "(<Response [200]>,\n",
       " b'{\\n  \"error_code\": 5, \\n  \"error_msg\": \"Model already exists\", \\n  \"successful\": false\\n}\\n')"
      ]
     },
     "execution_count": 4,
     "metadata": {},
     "output_type": "execute_result"
    }
   ],
   "source": [
    "res = requests.post('http://localhost:5000/create/model/apple', data={'key': 'secretkey', 'metadata': json.dumps({'a': 5})}, files={'model': open('README.md','rb')})\n",
    "res, res.content"
   ]
  },
  {
   "cell_type": "code",
   "execution_count": 3,
   "id": "fb51199a-67bb-4587-b4bf-007c02ca285e",
   "metadata": {
    "tags": []
   },
   "outputs": [
    {
     "data": {
      "text/plain": [
       "(<Response [200]>,\n",
       " b'{\\n  \"error_code\": 2, \\n  \"error_msg\": \"only integers, slices (`:`), ellipsis (`...`), numpy.newaxis (`None`) and integer or boolean arrays are valid indices\", \\n  \"model_name\": \"apple\", \\n  \"predictions\": []\\n}\\n')"
      ]
     },
     "execution_count": 3,
     "metadata": {},
     "output_type": "execute_result"
    }
   ],
   "source": [
    "byte_arr = BytesIO()\n",
    "byte_arr.write(np.random.randint(0, 127, 10, dtype=np.uint8).tobytes())\n",
    "byte_arr.seek(0)\n",
    "res = requests.post('http://localhost:5000/read/inference/apple', files={'image': byte_arr})\n",
    "res, res.content"
   ]
  },
  {
   "cell_type": "code",
   "execution_count": 7,
   "id": "d7341772-e18e-47c8-a14d-6f7e8962b11b",
   "metadata": {
    "tags": []
   },
   "outputs": [
    {
     "data": {
      "text/plain": [
       "(<Response [200]>,\n",
       " b'{\\n  \"batch_predictions\": [], \\n  \"error_code\": 2, \\n  \"error_msg\": \"invalid index to scalar variable.\", \\n  \"model_name\": \"apple\"\\n}\\n')"
      ]
     },
     "execution_count": 7,
     "metadata": {},
     "output_type": "execute_result"
    }
   ],
   "source": [
    "byte_arr = BytesIO()\n",
    "byte_arr.write(np.random.randint(0, 127, 10, dtype=np.uint8).tobytes())\n",
    "byte_arr.seek(0)\n",
    "byte_arr2 = BytesIO()\n",
    "byte_arr2.write(np.random.randint(0, 127, 10, dtype=np.uint8).tobytes())\n",
    "byte_arr2.seek(0)\n",
    "\n",
    "res = requests.post('http://localhost:5000/read/batch-inference/apple', data={'num_image': 2}, files={'image_0': byte_arr, 'image_1': byte_arr2})\n",
    "res, res.content"
   ]
  },
  {
   "cell_type": "code",
   "execution_count": 3,
   "id": "2773b2dc-ae23-4ff3-b2a7-44f2b72c6cd4",
   "metadata": {},
   "outputs": [
    {
     "data": {
      "text/plain": [
       "(<Response [200]>,\n",
       " b'{\\n  \"error_code\": 0, \\n  \"error_msg\": null, \\n  \"model_list\": [\\n    {\\n      \"metadata\": \"{\\\\\"a\\\\\": 5}\", \\n      \"model_name\": \"apple\"\\n    }\\n  ]\\n}\\n',\n",
       " [{'metadata': '{\"a\": 5}', 'model_name': 'apple'}])"
      ]
     },
     "execution_count": 3,
     "metadata": {},
     "output_type": "execute_result"
    }
   ],
   "source": [
    "res = requests.get('http://localhost:5000/read/model/list')\n",
    "res, res.content, json.loads(res.content)['model_list']"
   ]
  },
  {
   "cell_type": "code",
   "execution_count": 85,
   "id": "5495c18c-490b-4354-8a89-f0ae7ea2e230",
   "metadata": {},
   "outputs": [
    {
     "data": {
      "text/plain": [
       "(<Response [200]>, b'## Model Inference\\r\\n\\r\\nREST API Server\\r\\n')"
      ]
     },
     "execution_count": 85,
     "metadata": {},
     "output_type": "execute_result"
    }
   ],
   "source": [
    "res = requests.get('http://localhost:5000/read/model/apple')\n",
    "res, res.content"
   ]
  },
  {
   "cell_type": "code",
   "execution_count": 95,
   "id": "d67d54f6-2468-4316-addc-3d5b2713bd3a",
   "metadata": {},
   "outputs": [
    {
     "data": {
      "text/plain": [
       "(<Response [200]>,\n",
       " b'{\\n  \"error_code\": 0, \\n  \"error_msg\": null, \\n  \"metadata\": \"{\\\\\"a\\\\\": 5}\"\\n}\\n')"
      ]
     },
     "execution_count": 95,
     "metadata": {},
     "output_type": "execute_result"
    }
   ],
   "source": [
    "res = requests.get('http://localhost:5000/read/metadata/apple')\n",
    "res, res.content"
   ]
  },
  {
   "cell_type": "code",
   "execution_count": 87,
   "id": "96e37852-5aad-416b-aa80-23f7c696f9cc",
   "metadata": {},
   "outputs": [
    {
     "data": {
      "text/plain": [
       "(<Response [200]>,\n",
       " b'{\\n  \"error_code\": 0, \\n  \"error_msg\": null, \\n  \"successful\": true\\n}\\n')"
      ]
     },
     "execution_count": 87,
     "metadata": {},
     "output_type": "execute_result"
    }
   ],
   "source": [
    "res = requests.put('http://localhost:5000/update/model/apple', data={'key': 'secretkey', 'metadata': json.dumps({'a': 7})})\n",
    "res, res.content"
   ]
  },
  {
   "cell_type": "code",
   "execution_count": 91,
   "id": "cc8bbce2-be04-4ac1-950b-c6d70f65de30",
   "metadata": {},
   "outputs": [
    {
     "data": {
      "text/plain": [
       "(<Response [200]>,\n",
       " b'{\\n  \"error_code\": 0, \\n  \"error_msg\": null, \\n  \"successful\": true\\n}\\n')"
      ]
     },
     "execution_count": 91,
     "metadata": {},
     "output_type": "execute_result"
    }
   ],
   "source": [
    "res = requests.delete('http://localhost:5000/delete/model/apple', data={'key': 'secretkey'})\n",
    "res, res.content"
   ]
  },
  {
   "cell_type": "code",
   "execution_count": null,
   "id": "b9e2592c-8c54-4c63-83b9-635a8ade31f0",
   "metadata": {},
   "outputs": [],
   "source": []
  }
 ],
 "metadata": {
  "kernelspec": {
   "display_name": "Python 3",
   "language": "python",
   "name": "python3"
  },
  "language_info": {
   "codemirror_mode": {
    "name": "ipython",
    "version": 3
   },
   "file_extension": ".py",
   "mimetype": "text/x-python",
   "name": "python",
   "nbconvert_exporter": "python",
   "pygments_lexer": "ipython3",
   "version": "3.8.8"
  }
 },
 "nbformat": 4,
 "nbformat_minor": 5
}
