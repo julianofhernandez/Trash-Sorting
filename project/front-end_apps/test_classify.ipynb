{
 "cells": [
  {
   "attachments": {},
   "cell_type": "markdown",
   "metadata": {},
   "source": [
    "# Test Classify"
   ]
  },
  {
   "cell_type": "code",
   "execution_count": 7,
   "metadata": {},
   "outputs": [
    {
     "name": "stdout",
     "output_type": "stream",
     "text": [
      "Requirement already satisfied: flask in c:\\users\\santi\\appdata\\local\\packages\\pythonsoftwarefoundation.python.3.10_qbz5n2kfra8p0\\localcache\\local-packages\\python310\\site-packages (2.2.3)\n",
      "Requirement already satisfied: itsdangerous>=2.0 in c:\\users\\santi\\appdata\\local\\packages\\pythonsoftwarefoundation.python.3.10_qbz5n2kfra8p0\\localcache\\local-packages\\python310\\site-packages (from flask) (2.1.2)\n",
      "Requirement already satisfied: click>=8.0 in c:\\users\\santi\\appdata\\local\\packages\\pythonsoftwarefoundation.python.3.10_qbz5n2kfra8p0\\localcache\\local-packages\\python310\\site-packages (from flask) (8.1.3)\n",
      "Requirement already satisfied: Werkzeug>=2.2.2 in c:\\users\\santi\\appdata\\local\\packages\\pythonsoftwarefoundation.python.3.10_qbz5n2kfra8p0\\localcache\\local-packages\\python310\\site-packages (from flask) (2.2.3)\n",
      "Requirement already satisfied: Jinja2>=3.0 in c:\\users\\santi\\appdata\\local\\packages\\pythonsoftwarefoundation.python.3.10_qbz5n2kfra8p0\\localcache\\local-packages\\python310\\site-packages (from flask) (3.1.2)\n",
      "Requirement already satisfied: colorama in c:\\users\\santi\\appdata\\local\\packages\\pythonsoftwarefoundation.python.3.10_qbz5n2kfra8p0\\localcache\\local-packages\\python310\\site-packages (from click>=8.0->flask) (0.4.6)\n",
      "Requirement already satisfied: MarkupSafe>=2.0 in c:\\users\\santi\\appdata\\local\\packages\\pythonsoftwarefoundation.python.3.10_qbz5n2kfra8p0\\localcache\\local-packages\\python310\\site-packages (from Jinja2>=3.0->flask) (2.1.2)\n",
      "Note: you may need to restart the kernel to use updated packages.\n"
     ]
    },
    {
     "name": "stderr",
     "output_type": "stream",
     "text": [
      "\n",
      "[notice] A new release of pip available: 22.3.1 -> 23.0.1\n",
      "[notice] To update, run: C:\\Users\\santi\\AppData\\Local\\Microsoft\\WindowsApps\\PythonSoftwareFoundation.Python.3.10_qbz5n2kfra8p0\\python.exe -m pip install --upgrade pip\n"
     ]
    }
   ],
   "source": [
    "%pip install flask"
   ]
  },
  {
   "attachments": {},
   "cell_type": "markdown",
   "metadata": {},
   "source": [
    "Import needed to get things working."
   ]
  },
  {
   "cell_type": "code",
   "execution_count": 1,
   "metadata": {},
   "outputs": [],
   "source": [
    "from misc import *\n",
    "from classify import *\n",
    "\n",
    "# from cv2 import *\n",
    "# %run model_inference.py#Discouraged. Run in the terminal."
   ]
  },
  {
   "attachments": {},
   "cell_type": "markdown",
   "metadata": {},
   "source": [
    "### Test Camera Classify"
   ]
  },
  {
   "attachments": {},
   "cell_type": "markdown",
   "metadata": {},
   "source": [
    "Manual Inputs:"
   ]
  },
  {
   "attachments": {},
   "cell_type": "markdown",
   "metadata": {},
   "source": [
    "First, you need to start up the model inference server separately."
   ]
  },
  {
   "attachments": {},
   "cell_type": "markdown",
   "metadata": {},
   "source": [
    "What you see in the code cell below can be ignored. The stuff that got commented out was just used for experimentation and testing."
   ]
  },
  {
   "cell_type": "code",
   "execution_count": 1,
   "metadata": {},
   "outputs": [],
   "source": [
    "# %run main.py#Won't work. Output exceeds the size limit. Open the full output data in a text editor.\n",
    "# %run classify.py#Won't work. TypeError: main() missing 3 required positional arguments: 'process_online', 'single_classification', and 'fps_rate'\n",
    "# main(process_online = True, single_classification = True, fps_rate = 30)\n",
    "# C:\\Users\\santi\\Pictures\\herky2.jpg\n",
    "# C:\\Users\\santi\\Pictures\\herky2 #Should give error\n",
    "# C:\\Users\\santi\\Downloads\\dasani\n",
    "# C:\\Users\\santi\\Downloads\\dasani.jpg\n",
    "# C:\\Users\\santi\\Downloads\\soda\n",
    "# C:\\Users\\santi\\Downloads\\soda.jpg\n",
    "# C:\\Users\\santi\\Downloads\\apple\n",
    "# C:\\Users\\santi\\Downloads\\apple.jpg\n",
    "# C:\\Users\\santi\\Downloads\\apple2\n",
    "# C:\\Users\\santi\\Downloads\\apple2.jpg"
   ]
  },
  {
   "attachments": {},
   "cell_type": "markdown",
   "metadata": {},
   "source": [
    "For the camera_classify function, test the case where process online and single classification features are enabled."
   ]
  },
  {
   "cell_type": "code",
   "execution_count": 2,
   "metadata": {},
   "outputs": [
    {
     "name": "stdout",
     "output_type": "stream",
     "text": [
      "classifying from camera\n",
      "Starting up camera...\n",
      "{'bounding_box': [[[0.5, 0.5], [0.7, 0.7]]], 'class_probs': [1.0, 0, 0, 0, 0], 'obj_label': 'water bottles', 'trash_bin_label': 'recylable'}\n"
     ]
    }
   ],
   "source": [
    "# camera_classify(process_online = True, single_classification=True)\n",
    "camera_classify(True, True)"
   ]
  },
  {
   "attachments": {},
   "cell_type": "markdown",
   "metadata": {},
   "source": [
    "^Up above is the result we want for live testing. Our server may not give accurate results yet, but what matters for the moment is that things work. We can improve accuracy later on."
   ]
  },
  {
   "attachments": {},
   "cell_type": "markdown",
   "metadata": {},
   "source": [
    "For the camera_classify function, test the case where process online is disabled and single classification is enabled."
   ]
  },
  {
   "cell_type": "code",
   "execution_count": 4,
   "metadata": {},
   "outputs": [
    {
     "name": "stdout",
     "output_type": "stream",
     "text": [
      "classifying from camera\n"
     ]
    },
    {
     "ename": "NotImplementedError",
     "evalue": "TODO: Local Models are not supported",
     "output_type": "error",
     "traceback": [
      "\u001b[1;31m---------------------------------------------------------------------------\u001b[0m",
      "\u001b[1;31mNotImplementedError\u001b[0m                       Traceback (most recent call last)",
      "Cell \u001b[1;32mIn[4], line 2\u001b[0m\n\u001b[0;32m      1\u001b[0m \u001b[39m#camera_classify(process_online = True, single_classification=True)\u001b[39;00m\n\u001b[1;32m----> 2\u001b[0m camera_classify(\u001b[39mFalse\u001b[39;49;00m, \u001b[39mTrue\u001b[39;49;00m)\n",
      "File \u001b[1;32mc:\\Users\\santi\\Downloads\\classify.py:59\u001b[0m, in \u001b[0;36mcamera_classify\u001b[1;34m(process_online, single_classification)\u001b[0m\n\u001b[0;32m     57\u001b[0m img \u001b[39m=\u001b[39m CAMERA\u001b[39m.\u001b[39mcapture()\n\u001b[0;32m     58\u001b[0m \u001b[39m# send img to Server or Local Model\u001b[39;00m\n\u001b[1;32m---> 59\u001b[0m preds \u001b[39m=\u001b[39m ssd_preds(img, process_online, single_classification)\n\u001b[0;32m     60\u001b[0m \u001b[39mif\u001b[39;00m preds \u001b[39mis\u001b[39;00m \u001b[39mNone\u001b[39;00m:\n\u001b[0;32m     61\u001b[0m     \u001b[39mprint\u001b[39m(\u001b[39m\"\u001b[39m\u001b[39mFailed to classify\u001b[39m\u001b[39m\"\u001b[39m)\n",
      "File \u001b[1;32mc:\\Users\\santi\\Downloads\\ssd.py:50\u001b[0m, in \u001b[0;36mssd_preds\u001b[1;34m(images, process_online, single_classification)\u001b[0m\n\u001b[0;32m     47\u001b[0m         \u001b[39mreturn\u001b[39;00m \u001b[39mNone\u001b[39;00m\n\u001b[0;32m     48\u001b[0m \u001b[39melse\u001b[39;00m:\n\u001b[0;32m     49\u001b[0m     \u001b[39m# Load model and predict\u001b[39;00m\n\u001b[1;32m---> 50\u001b[0m     \u001b[39mraise\u001b[39;00m \u001b[39mNotImplementedError\u001b[39;00m(\u001b[39m'\u001b[39m\u001b[39mTODO: Local Models are not supported\u001b[39m\u001b[39m'\u001b[39m)\n\u001b[0;32m     51\u001b[0m \u001b[39mreturn\u001b[39;00m res\n",
      "\u001b[1;31mNotImplementedError\u001b[0m: TODO: Local Models are not supported"
     ]
    }
   ],
   "source": [
    "# camera_classify(process_online = True, single_classification=True)\n",
    "camera_classify(False, True)"
   ]
  },
  {
   "attachments": {},
   "cell_type": "markdown",
   "metadata": {},
   "source": [
    "^Up above, you can see a not implemented error. This is to be expected for the time being as the process offline feature is not done yet and this will be fixed for future testing."
   ]
  },
  {
   "attachments": {},
   "cell_type": "markdown",
   "metadata": {},
   "source": [
    "For the camera_classify function, test the case where process online is enabled and single classification is disabled."
   ]
  },
  {
   "cell_type": "code",
   "execution_count": 5,
   "metadata": {},
   "outputs": [
    {
     "name": "stdout",
     "output_type": "stream",
     "text": [
      "classifying from camera\n",
      "{'bounding_box': [[[0.5, 0.5], [0.7, 0.7]]], 'class_probs': [1.0, 0, 0, 0, 0], 'obj_label': 'water bottles', 'trash_bin_label': 'recylable'}\n"
     ]
    }
   ],
   "source": [
    "# camera_classify(process_online = True, single_classification=True)\n",
    "camera_classify(True, False)"
   ]
  },
  {
   "attachments": {},
   "cell_type": "markdown",
   "metadata": {},
   "source": [
    "For the camera_classify function, test the case where process online is disabled and single classification is disabled."
   ]
  },
  {
   "cell_type": "code",
   "execution_count": 6,
   "metadata": {},
   "outputs": [
    {
     "name": "stdout",
     "output_type": "stream",
     "text": [
      "classifying from camera\n"
     ]
    },
    {
     "ename": "NotImplementedError",
     "evalue": "TODO: Local Models are not supported",
     "output_type": "error",
     "traceback": [
      "\u001b[1;31m---------------------------------------------------------------------------\u001b[0m",
      "\u001b[1;31mNotImplementedError\u001b[0m                       Traceback (most recent call last)",
      "Cell \u001b[1;32mIn[6], line 2\u001b[0m\n\u001b[0;32m      1\u001b[0m \u001b[39m#camera_classify(process_online = True, single_classification=True)\u001b[39;00m\n\u001b[1;32m----> 2\u001b[0m camera_classify(\u001b[39mFalse\u001b[39;49;00m, \u001b[39mFalse\u001b[39;49;00m)\n",
      "File \u001b[1;32mc:\\Users\\santi\\Downloads\\classify.py:59\u001b[0m, in \u001b[0;36mcamera_classify\u001b[1;34m(process_online, single_classification)\u001b[0m\n\u001b[0;32m     57\u001b[0m img \u001b[39m=\u001b[39m CAMERA\u001b[39m.\u001b[39mcapture()\n\u001b[0;32m     58\u001b[0m \u001b[39m# send img to Server or Local Model\u001b[39;00m\n\u001b[1;32m---> 59\u001b[0m preds \u001b[39m=\u001b[39m ssd_preds(img, process_online, single_classification)\n\u001b[0;32m     60\u001b[0m \u001b[39mif\u001b[39;00m preds \u001b[39mis\u001b[39;00m \u001b[39mNone\u001b[39;00m:\n\u001b[0;32m     61\u001b[0m     \u001b[39mprint\u001b[39m(\u001b[39m\"\u001b[39m\u001b[39mFailed to classify\u001b[39m\u001b[39m\"\u001b[39m)\n",
      "File \u001b[1;32mc:\\Users\\santi\\Downloads\\ssd.py:50\u001b[0m, in \u001b[0;36mssd_preds\u001b[1;34m(images, process_online, single_classification)\u001b[0m\n\u001b[0;32m     47\u001b[0m         \u001b[39mreturn\u001b[39;00m \u001b[39mNone\u001b[39;00m\n\u001b[0;32m     48\u001b[0m \u001b[39melse\u001b[39;00m:\n\u001b[0;32m     49\u001b[0m     \u001b[39m# Load model and predict\u001b[39;00m\n\u001b[1;32m---> 50\u001b[0m     \u001b[39mraise\u001b[39;00m \u001b[39mNotImplementedError\u001b[39;00m(\u001b[39m'\u001b[39m\u001b[39mTODO: Local Models are not supported\u001b[39m\u001b[39m'\u001b[39m)\n\u001b[0;32m     51\u001b[0m \u001b[39mreturn\u001b[39;00m res\n",
      "\u001b[1;31mNotImplementedError\u001b[0m: TODO: Local Models are not supported"
     ]
    }
   ],
   "source": [
    "# camera_classify(process_online = True, single_classification=True)\n",
    "camera_classify(False, False)"
   ]
  },
  {
   "attachments": {},
   "cell_type": "markdown",
   "metadata": {},
   "source": [
    "### Test File Classify"
   ]
  },
  {
   "attachments": {},
   "cell_type": "markdown",
   "metadata": {},
   "source": [
    "Manual Inputs:"
   ]
  },
  {
   "attachments": {},
   "cell_type": "markdown",
   "metadata": {},
   "source": [
    "For the file_classify function, test the case where process online is enabled and single classification is enabled.\n",
    "The image file paths used for testing are commented in the code."
   ]
  },
  {
   "cell_type": "code",
   "execution_count": 8,
   "metadata": {},
   "outputs": [
    {
     "name": "stdout",
     "output_type": "stream",
     "text": [
      "classifying from file\n",
      "Enter image file path to be classifyed: \n",
      "{'bounding_box': [[[0.5, 0.5], [0.7, 0.7]]], 'class_probs': [1.0, 0, 0, 0, 0], 'obj_label': 'water bottles', 'trash_bin_label': 'recylable'}\n"
     ]
    }
   ],
   "source": [
    "# C:\\Users\\santi\\Pictures\\herky2.jpg\n",
    "# C:\\Users\\santi\\Pictures\\herky2 #Should give error\n",
    "# C:\\Users\\santi\\Downloads\\dasani\n",
    "# C:\\Users\\santi\\Downloads\\dasani.jpg #Image of a Dasani water bottle whose results are shown.\n",
    "# C:\\Users\\santi\\Downloads\\soda\n",
    "# C:\\Users\\santi\\Downloads\\soda.jpg\n",
    "# C:\\Users\\santi\\Downloads\\apple\n",
    "# C:\\Users\\santi\\Downloads\\apple.jpg\n",
    "# C:\\Users\\santi\\Downloads\\apple2\n",
    "# C:\\Users\\santi\\Downloads\\apple2.jpg\n",
    "file_classify(True, True)"
   ]
  },
  {
   "attachments": {},
   "cell_type": "markdown",
   "metadata": {},
   "source": [
    "Testing for the case that an image cannot or should not be recognized."
   ]
  },
  {
   "cell_type": "code",
   "execution_count": 9,
   "metadata": {},
   "outputs": [
    {
     "name": "stdout",
     "output_type": "stream",
     "text": [
      "classifying from file\n",
      "Enter image file path to be classifyed: \n",
      "Image could not be read\n"
     ]
    }
   ],
   "source": [
    "# C:\\Users\\santi\\Pictures\\herky2 #Should give error\n",
    "file_classify(True, True)"
   ]
  },
  {
   "attachments": {},
   "cell_type": "markdown",
   "metadata": {},
   "source": [
    "For the file_classify function, test the case where process online is enabled and single classification is disabled."
   ]
  },
  {
   "cell_type": "code",
   "execution_count": 10,
   "metadata": {},
   "outputs": [
    {
     "name": "stdout",
     "output_type": "stream",
     "text": [
      "classifying from file\n",
      "Enter image file path to be classifyed: \n",
      "{'bounding_box': [[[0.5, 0.5], [0.7, 0.7]]], 'class_probs': [1.0, 0, 0, 0, 0], 'obj_label': 'water bottles', 'trash_bin_label': 'recylable'}\n"
     ]
    }
   ],
   "source": [
    "# C:\\Users\\santi\\Downloads\\dasani.jpg #Image of a Dasani water bottle whose results are shown.\n",
    "file_classify(True, False)"
   ]
  },
  {
   "cell_type": "code",
   "execution_count": 11,
   "metadata": {},
   "outputs": [
    {
     "name": "stdout",
     "output_type": "stream",
     "text": [
      "classifying from file\n",
      "Enter image file path to be classifyed: \n",
      "Image could not be read\n"
     ]
    }
   ],
   "source": [
    "# C:\\Users\\santi\\Pictures\\herky2 #Should give error\n",
    "file_classify(True, False)"
   ]
  },
  {
   "attachments": {},
   "cell_type": "markdown",
   "metadata": {},
   "source": [
    "For the file_classify function, test the case where process online is disabled and single classification is enabled."
   ]
  },
  {
   "cell_type": "code",
   "execution_count": 14,
   "metadata": {},
   "outputs": [
    {
     "name": "stdout",
     "output_type": "stream",
     "text": [
      "classifying from file\n",
      "Enter image file path to be classifyed: \n"
     ]
    },
    {
     "ename": "NotImplementedError",
     "evalue": "TODO: Local Models are not supported",
     "output_type": "error",
     "traceback": [
      "\u001b[1;31m---------------------------------------------------------------------------\u001b[0m",
      "\u001b[1;31mNotImplementedError\u001b[0m                       Traceback (most recent call last)",
      "Cell \u001b[1;32mIn[14], line 3\u001b[0m\n\u001b[0;32m      1\u001b[0m \u001b[39m#C:\\Users\\santi\\Pictures\\herky2 #Should give error\u001b[39;00m\n\u001b[0;32m      2\u001b[0m \u001b[39m#C:\\Users\\santi\\Downloads\\dasani.jpg #Image of a Dasani water bottle whose results are shown.\u001b[39;00m\n\u001b[1;32m----> 3\u001b[0m file_classify(\u001b[39mFalse\u001b[39;49;00m, \u001b[39mTrue\u001b[39;49;00m)\n",
      "File \u001b[1;32mc:\\Users\\santi\\Downloads\\classify.py:78\u001b[0m, in \u001b[0;36mfile_classify\u001b[1;34m(process_online, single_classification)\u001b[0m\n\u001b[0;32m     75\u001b[0m     \u001b[39mprint\u001b[39m(\u001b[39m\"\u001b[39m\u001b[39mImage could not be read\u001b[39m\u001b[39m\"\u001b[39m)\n\u001b[0;32m     76\u001b[0m \u001b[39melse\u001b[39;00m:\n\u001b[0;32m     77\u001b[0m     \u001b[39m# send img to Server or Local Model\u001b[39;00m\n\u001b[1;32m---> 78\u001b[0m     preds \u001b[39m=\u001b[39m ssd_preds(img, process_online, single_classification)\n\u001b[0;32m     79\u001b[0m     \u001b[39mif\u001b[39;00m preds \u001b[39mis\u001b[39;00m \u001b[39mNone\u001b[39;00m:\n\u001b[0;32m     80\u001b[0m         \u001b[39mprint\u001b[39m(\u001b[39m\"\u001b[39m\u001b[39mFailed to classify\u001b[39m\u001b[39m\"\u001b[39m)\n",
      "File \u001b[1;32mc:\\Users\\santi\\Downloads\\ssd.py:50\u001b[0m, in \u001b[0;36mssd_preds\u001b[1;34m(images, process_online, single_classification)\u001b[0m\n\u001b[0;32m     47\u001b[0m         \u001b[39mreturn\u001b[39;00m \u001b[39mNone\u001b[39;00m\n\u001b[0;32m     48\u001b[0m \u001b[39melse\u001b[39;00m:\n\u001b[0;32m     49\u001b[0m     \u001b[39m# Load model and predict\u001b[39;00m\n\u001b[1;32m---> 50\u001b[0m     \u001b[39mraise\u001b[39;00m \u001b[39mNotImplementedError\u001b[39;00m(\u001b[39m'\u001b[39m\u001b[39mTODO: Local Models are not supported\u001b[39m\u001b[39m'\u001b[39m)\n\u001b[0;32m     51\u001b[0m \u001b[39mreturn\u001b[39;00m res\n",
      "\u001b[1;31mNotImplementedError\u001b[0m: TODO: Local Models are not supported"
     ]
    }
   ],
   "source": [
    "# C:\\Users\\santi\\Pictures\\herky2 #Should give error\n",
    "# C:\\Users\\santi\\Downloads\\dasani.jpg #Image of a Dasani water bottle whose results are shown.\n",
    "file_classify(False, True)"
   ]
  },
  {
   "cell_type": "code",
   "execution_count": 15,
   "metadata": {},
   "outputs": [
    {
     "name": "stdout",
     "output_type": "stream",
     "text": [
      "classifying from file\n",
      "Enter image file path to be classifyed: \n",
      "Image could not be read\n"
     ]
    }
   ],
   "source": [
    "# C:\\Users\\santi\\Pictures\\herky2 #Should give error\n",
    "file_classify(False, True)"
   ]
  },
  {
   "attachments": {},
   "cell_type": "markdown",
   "metadata": {},
   "source": [
    "For the file_classify function, test the case where process online is disabled and single classification is disabled."
   ]
  },
  {
   "cell_type": "code",
   "execution_count": 16,
   "metadata": {},
   "outputs": [
    {
     "name": "stdout",
     "output_type": "stream",
     "text": [
      "classifying from file\n",
      "Enter image file path to be classifyed: \n"
     ]
    },
    {
     "ename": "NotImplementedError",
     "evalue": "TODO: Local Models are not supported",
     "output_type": "error",
     "traceback": [
      "\u001b[1;31m---------------------------------------------------------------------------\u001b[0m",
      "\u001b[1;31mNotImplementedError\u001b[0m                       Traceback (most recent call last)",
      "Cell \u001b[1;32mIn[16], line 2\u001b[0m\n\u001b[0;32m      1\u001b[0m \u001b[39m#C:\\Users\\santi\\Downloads\\dasani.jpg #Image of a Dasani water bottle whose results are shown.\u001b[39;00m\n\u001b[1;32m----> 2\u001b[0m file_classify(\u001b[39mFalse\u001b[39;49;00m, \u001b[39mFalse\u001b[39;49;00m)\n",
      "File \u001b[1;32mc:\\Users\\santi\\Downloads\\classify.py:78\u001b[0m, in \u001b[0;36mfile_classify\u001b[1;34m(process_online, single_classification)\u001b[0m\n\u001b[0;32m     75\u001b[0m     \u001b[39mprint\u001b[39m(\u001b[39m\"\u001b[39m\u001b[39mImage could not be read\u001b[39m\u001b[39m\"\u001b[39m)\n\u001b[0;32m     76\u001b[0m \u001b[39melse\u001b[39;00m:\n\u001b[0;32m     77\u001b[0m     \u001b[39m# send img to Server or Local Model\u001b[39;00m\n\u001b[1;32m---> 78\u001b[0m     preds \u001b[39m=\u001b[39m ssd_preds(img, process_online, single_classification)\n\u001b[0;32m     79\u001b[0m     \u001b[39mif\u001b[39;00m preds \u001b[39mis\u001b[39;00m \u001b[39mNone\u001b[39;00m:\n\u001b[0;32m     80\u001b[0m         \u001b[39mprint\u001b[39m(\u001b[39m\"\u001b[39m\u001b[39mFailed to classify\u001b[39m\u001b[39m\"\u001b[39m)\n",
      "File \u001b[1;32mc:\\Users\\santi\\Downloads\\ssd.py:50\u001b[0m, in \u001b[0;36mssd_preds\u001b[1;34m(images, process_online, single_classification)\u001b[0m\n\u001b[0;32m     47\u001b[0m         \u001b[39mreturn\u001b[39;00m \u001b[39mNone\u001b[39;00m\n\u001b[0;32m     48\u001b[0m \u001b[39melse\u001b[39;00m:\n\u001b[0;32m     49\u001b[0m     \u001b[39m# Load model and predict\u001b[39;00m\n\u001b[1;32m---> 50\u001b[0m     \u001b[39mraise\u001b[39;00m \u001b[39mNotImplementedError\u001b[39;00m(\u001b[39m'\u001b[39m\u001b[39mTODO: Local Models are not supported\u001b[39m\u001b[39m'\u001b[39m)\n\u001b[0;32m     51\u001b[0m \u001b[39mreturn\u001b[39;00m res\n",
      "\u001b[1;31mNotImplementedError\u001b[0m: TODO: Local Models are not supported"
     ]
    }
   ],
   "source": [
    "# C:\\Users\\santi\\Downloads\\dasani.jpg #Image of a Dasani water bottle whose results are shown.\n",
    "file_classify(False, False)"
   ]
  },
  {
   "cell_type": "code",
   "execution_count": 17,
   "metadata": {},
   "outputs": [
    {
     "name": "stdout",
     "output_type": "stream",
     "text": [
      "classifying from file\n",
      "Enter image file path to be classifyed: \n",
      "Image could not be read\n"
     ]
    }
   ],
   "source": [
    "# C:\\Users\\santi\\Pictures\\herky2 #Should give error\n",
    "file_classify(False, False)"
   ]
  },
  {
   "attachments": {},
   "cell_type": "markdown",
   "metadata": {},
   "source": [
    "### Test Real Time Classify"
   ]
  },
  {
   "attachments": {},
   "cell_type": "markdown",
   "metadata": {},
   "source": [
    "Manual Inputs:"
   ]
  },
  {
   "attachments": {},
   "cell_type": "markdown",
   "metadata": {},
   "source": [
    "For the real_time_classify function, test the case where process online is enabled, single classification is enabled, and FPS is 10."
   ]
  },
  {
   "cell_type": "code",
   "execution_count": 18,
   "metadata": {},
   "outputs": [
    {
     "name": "stdout",
     "output_type": "stream",
     "text": [
      "classifying in real time\n",
      "Starting up camera...\n",
      "Active. To stop, press Q.\n",
      "{'bounding_box': [[[0.5, 0.5], [0.7, 0.7]]], 'class_probs': [1.0, 0, 0, 0, 0], 'obj_label': 'water bottles', 'trash_bin_label': 'recylable'}\n",
      "{'bounding_box': [[[0.5, 0.5], [0.7, 0.7]]], 'class_probs': [1.0, 0, 0, 0, 0], 'obj_label': 'water bottles', 'trash_bin_label': 'recylable'}\n",
      "{'bounding_box': [[[0.5, 0.5], [0.7, 0.7]]], 'class_probs': [1.0, 0, 0, 0, 0], 'obj_label': 'water bottles', 'trash_bin_label': 'recylable'}\n",
      "{'bounding_box': [[[0.5, 0.5], [0.7, 0.7]]], 'class_probs': [1.0, 0, 0, 0, 0], 'obj_label': 'water bottles', 'trash_bin_label': 'recylable'}\n",
      "{'bounding_box': [[[0.5, 0.5], [0.7, 0.7]]], 'class_probs': [1.0, 0, 0, 0, 0], 'obj_label': 'water bottles', 'trash_bin_label': 'recylable'}\n",
      "{'bounding_box': [[[0.5, 0.5], [0.7, 0.7]]], 'class_probs': [1.0, 0, 0, 0, 0], 'obj_label': 'water bottles', 'trash_bin_label': 'recylable'}\n",
      "{'bounding_box': [[[0.5, 0.5], [0.7, 0.7]]], 'class_probs': [1.0, 0, 0, 0, 0], 'obj_label': 'water bottles', 'trash_bin_label': 'recylable'}\n",
      "{'bounding_box': [[[0.5, 0.5], [0.7, 0.7]]], 'class_probs': [1.0, 0, 0, 0, 0], 'obj_label': 'water bottles', 'trash_bin_label': 'recylable'}\n",
      "{'bounding_box': [[[0.5, 0.5], [0.7, 0.7]]], 'class_probs': [1.0, 0, 0, 0, 0], 'obj_label': 'water bottles', 'trash_bin_label': 'recylable'}\n",
      "{'bounding_box': [[[0.5, 0.5], [0.7, 0.7]]], 'class_probs': [1.0, 0, 0, 0, 0], 'obj_label': 'water bottles', 'trash_bin_label': 'recylable'}\n",
      "{'bounding_box': [[[0.5, 0.5], [0.7, 0.7]]], 'class_probs': [1.0, 0, 0, 0, 0], 'obj_label': 'water bottles', 'trash_bin_label': 'recylable'}\n",
      "{'bounding_box': [[[0.5, 0.5], [0.7, 0.7]]], 'class_probs': [1.0, 0, 0, 0, 0], 'obj_label': 'water bottles', 'trash_bin_label': 'recylable'}\n",
      "{'bounding_box': [[[0.5, 0.5], [0.7, 0.7]]], 'class_probs': [1.0, 0, 0, 0, 0], 'obj_label': 'water bottles', 'trash_bin_label': 'recylable'}\n",
      "{'bounding_box': [[[0.5, 0.5], [0.7, 0.7]]], 'class_probs': [1.0, 0, 0, 0, 0], 'obj_label': 'water bottles', 'trash_bin_label': 'recylable'}\n",
      "{'bounding_box': [[[0.5, 0.5], [0.7, 0.7]]], 'class_probs': [1.0, 0, 0, 0, 0], 'obj_label': 'water bottles', 'trash_bin_label': 'recylable'}\n",
      "{'bounding_box': [[[0.5, 0.5], [0.7, 0.7]]], 'class_probs': [1.0, 0, 0, 0, 0], 'obj_label': 'water bottles', 'trash_bin_label': 'recylable'}\n",
      "{'bounding_box': [[[0.5, 0.5], [0.7, 0.7]]], 'class_probs': [1.0, 0, 0, 0, 0], 'obj_label': 'water bottles', 'trash_bin_label': 'recylable'}\n",
      "{'bounding_box': [[[0.5, 0.5], [0.7, 0.7]]], 'class_probs': [1.0, 0, 0, 0, 0], 'obj_label': 'water bottles', 'trash_bin_label': 'recylable'}\n",
      "{'bounding_box': [[[0.5, 0.5], [0.7, 0.7]]], 'class_probs': [1.0, 0, 0, 0, 0], 'obj_label': 'water bottles', 'trash_bin_label': 'recylable'}\n",
      "{'bounding_box': [[[0.5, 0.5], [0.7, 0.7]]], 'class_probs': [1.0, 0, 0, 0, 0], 'obj_label': 'water bottles', 'trash_bin_label': 'recylable'}\n",
      "{'bounding_box': [[[0.5, 0.5], [0.7, 0.7]]], 'class_probs': [1.0, 0, 0, 0, 0], 'obj_label': 'water bottles', 'trash_bin_label': 'recylable'}\n",
      "{'bounding_box': [[[0.5, 0.5], [0.7, 0.7]]], 'class_probs': [1.0, 0, 0, 0, 0], 'obj_label': 'water bottles', 'trash_bin_label': 'recylable'}\n",
      "{'bounding_box': [[[0.5, 0.5], [0.7, 0.7]]], 'class_probs': [1.0, 0, 0, 0, 0], 'obj_label': 'water bottles', 'trash_bin_label': 'recylable'}\n",
      "{'bounding_box': [[[0.5, 0.5], [0.7, 0.7]]], 'class_probs': [1.0, 0, 0, 0, 0], 'obj_label': 'water bottles', 'trash_bin_label': 'recylable'}\n",
      "{'bounding_box': [[[0.5, 0.5], [0.7, 0.7]]], 'class_probs': [1.0, 0, 0, 0, 0], 'obj_label': 'water bottles', 'trash_bin_label': 'recylable'}\n",
      "{'bounding_box': [[[0.5, 0.5], [0.7, 0.7]]], 'class_probs': [1.0, 0, 0, 0, 0], 'obj_label': 'water bottles', 'trash_bin_label': 'recylable'}\n",
      "{'bounding_box': [[[0.5, 0.5], [0.7, 0.7]]], 'class_probs': [1.0, 0, 0, 0, 0], 'obj_label': 'water bottles', 'trash_bin_label': 'recylable'}\n",
      "{'bounding_box': [[[0.5, 0.5], [0.7, 0.7]]], 'class_probs': [1.0, 0, 0, 0, 0], 'obj_label': 'water bottles', 'trash_bin_label': 'recylable'}\n",
      "{'bounding_box': [[[0.5, 0.5], [0.7, 0.7]]], 'class_probs': [1.0, 0, 0, 0, 0], 'obj_label': 'water bottles', 'trash_bin_label': 'recylable'}\n",
      "{'bounding_box': [[[0.5, 0.5], [0.7, 0.7]]], 'class_probs': [1.0, 0, 0, 0, 0], 'obj_label': 'water bottles', 'trash_bin_label': 'recylable'}\n",
      "{'bounding_box': [[[0.5, 0.5], [0.7, 0.7]]], 'class_probs': [1.0, 0, 0, 0, 0], 'obj_label': 'water bottles', 'trash_bin_label': 'recylable'}\n",
      "{'bounding_box': [[[0.5, 0.5], [0.7, 0.7]]], 'class_probs': [1.0, 0, 0, 0, 0], 'obj_label': 'water bottles', 'trash_bin_label': 'recylable'}\n",
      "{'bounding_box': [[[0.5, 0.5], [0.7, 0.7]]], 'class_probs': [1.0, 0, 0, 0, 0], 'obj_label': 'water bottles', 'trash_bin_label': 'recylable'}\n",
      "{'bounding_box': [[[0.5, 0.5], [0.7, 0.7]]], 'class_probs': [1.0, 0, 0, 0, 0], 'obj_label': 'water bottles', 'trash_bin_label': 'recylable'}\n",
      "{'bounding_box': [[[0.5, 0.5], [0.7, 0.7]]], 'class_probs': [1.0, 0, 0, 0, 0], 'obj_label': 'water bottles', 'trash_bin_label': 'recylable'}\n",
      "{'bounding_box': [[[0.5, 0.5], [0.7, 0.7]]], 'class_probs': [1.0, 0, 0, 0, 0], 'obj_label': 'water bottles', 'trash_bin_label': 'recylable'}\n",
      "{'bounding_box': [[[0.5, 0.5], [0.7, 0.7]]], 'class_probs': [1.0, 0, 0, 0, 0], 'obj_label': 'water bottles', 'trash_bin_label': 'recylable'}\n",
      "{'bounding_box': [[[0.5, 0.5], [0.7, 0.7]]], 'class_probs': [1.0, 0, 0, 0, 0], 'obj_label': 'water bottles', 'trash_bin_label': 'recylable'}\n",
      "{'bounding_box': [[[0.5, 0.5], [0.7, 0.7]]], 'class_probs': [1.0, 0, 0, 0, 0], 'obj_label': 'water bottles', 'trash_bin_label': 'recylable'}\n",
      "{'bounding_box': [[[0.5, 0.5], [0.7, 0.7]]], 'class_probs': [1.0, 0, 0, 0, 0], 'obj_label': 'water bottles', 'trash_bin_label': 'recylable'}\n",
      "{'bounding_box': [[[0.5, 0.5], [0.7, 0.7]]], 'class_probs': [1.0, 0, 0, 0, 0], 'obj_label': 'water bottles', 'trash_bin_label': 'recylable'}\n",
      "{'bounding_box': [[[0.5, 0.5], [0.7, 0.7]]], 'class_probs': [1.0, 0, 0, 0, 0], 'obj_label': 'water bottles', 'trash_bin_label': 'recylable'}\n",
      "{'bounding_box': [[[0.5, 0.5], [0.7, 0.7]]], 'class_probs': [1.0, 0, 0, 0, 0], 'obj_label': 'water bottles', 'trash_bin_label': 'recylable'}\n",
      "{'bounding_box': [[[0.5, 0.5], [0.7, 0.7]]], 'class_probs': [1.0, 0, 0, 0, 0], 'obj_label': 'water bottles', 'trash_bin_label': 'recylable'}\n"
     ]
    },
    {
     "ename": "KeyboardInterrupt",
     "evalue": "",
     "output_type": "error",
     "traceback": [
      "\u001b[1;31m---------------------------------------------------------------------------\u001b[0m",
      "\u001b[1;31mKeyboardInterrupt\u001b[0m                         Traceback (most recent call last)",
      "Cell \u001b[1;32mIn[18], line 1\u001b[0m\n\u001b[1;32m----> 1\u001b[0m real_time_classify(\u001b[39mTrue\u001b[39;49;00m, \u001b[39mTrue\u001b[39;49;00m, \u001b[39m10\u001b[39;49m)\n",
      "File \u001b[1;32mc:\\Users\\santi\\Downloads\\classify.py:102\u001b[0m, in \u001b[0;36mreal_time_classify\u001b[1;34m(process_online, single_classification, fps_rate)\u001b[0m\n\u001b[0;32m    100\u001b[0m \u001b[39mif\u001b[39;00m cv2\u001b[39m.\u001b[39mwaitKey(\u001b[39m1\u001b[39m) \u001b[39m&\u001b[39m \u001b[39m0xFF\u001b[39m \u001b[39m==\u001b[39m \u001b[39mord\u001b[39m(\u001b[39m'\u001b[39m\u001b[39mq\u001b[39m\u001b[39m'\u001b[39m):\n\u001b[0;32m    101\u001b[0m     \u001b[39mbreak\u001b[39;00m\n\u001b[1;32m--> 102\u001b[0m preds \u001b[39m=\u001b[39m ssd_preds(img, process_online, single_classification)\n\u001b[0;32m    103\u001b[0m \u001b[39mif\u001b[39;00m preds \u001b[39mis\u001b[39;00m \u001b[39mNone\u001b[39;00m:\n\u001b[0;32m    104\u001b[0m     \u001b[39mprint\u001b[39m(\u001b[39m\"\u001b[39m\u001b[39mFailed to classify\u001b[39m\u001b[39m\"\u001b[39m)\n",
      "File \u001b[1;32mc:\\Users\\santi\\Downloads\\ssd.py:13\u001b[0m, in \u001b[0;36mssd_preds\u001b[1;34m(images, process_online, single_classification)\u001b[0m\n\u001b[0;32m     11\u001b[0m byte_arr\u001b[39m.\u001b[39mwrite(images[\u001b[39m0\u001b[39m]\u001b[39m.\u001b[39mtobytes())\n\u001b[0;32m     12\u001b[0m byte_arr\u001b[39m.\u001b[39mseek(\u001b[39m0\u001b[39m)\n\u001b[1;32m---> 13\u001b[0m res \u001b[39m=\u001b[39m requests\u001b[39m.\u001b[39;49mpost(\n\u001b[0;32m     14\u001b[0m     \u001b[39m'\u001b[39;49m\u001b[39mhttp://127.0.0.1:5001/read/inference/apple\u001b[39;49m\u001b[39m'\u001b[39;49m, files\u001b[39m=\u001b[39;49m{\u001b[39m'\u001b[39;49m\u001b[39mimage\u001b[39;49m\u001b[39m'\u001b[39;49m: byte_arr})\n\u001b[0;32m     15\u001b[0m \u001b[39mif\u001b[39;00m res\u001b[39m.\u001b[39mstatus_code \u001b[39m==\u001b[39m \u001b[39m200\u001b[39m:\n\u001b[0;32m     16\u001b[0m     res \u001b[39m=\u001b[39m json\u001b[39m.\u001b[39mloads(res\u001b[39m.\u001b[39mcontent)\n",
      "File \u001b[1;32m~\\AppData\\Local\\Packages\\PythonSoftwareFoundation.Python.3.10_qbz5n2kfra8p0\\LocalCache\\local-packages\\Python310\\site-packages\\requests\\api.py:115\u001b[0m, in \u001b[0;36mpost\u001b[1;34m(url, data, json, **kwargs)\u001b[0m\n\u001b[0;32m    103\u001b[0m \u001b[39mdef\u001b[39;00m \u001b[39mpost\u001b[39m(url, data\u001b[39m=\u001b[39m\u001b[39mNone\u001b[39;00m, json\u001b[39m=\u001b[39m\u001b[39mNone\u001b[39;00m, \u001b[39m*\u001b[39m\u001b[39m*\u001b[39mkwargs):\n\u001b[0;32m    104\u001b[0m \u001b[39m    \u001b[39m\u001b[39mr\u001b[39m\u001b[39m\"\"\"Sends a POST request.\u001b[39;00m\n\u001b[0;32m    105\u001b[0m \n\u001b[0;32m    106\u001b[0m \u001b[39m    :param url: URL for the new :class:`Request` object.\u001b[39;00m\n\u001b[1;32m   (...)\u001b[0m\n\u001b[0;32m    112\u001b[0m \u001b[39m    :rtype: requests.Response\u001b[39;00m\n\u001b[0;32m    113\u001b[0m \u001b[39m    \"\"\"\u001b[39;00m\n\u001b[1;32m--> 115\u001b[0m     \u001b[39mreturn\u001b[39;00m request(\u001b[39m\"\u001b[39m\u001b[39mpost\u001b[39m\u001b[39m\"\u001b[39m, url, data\u001b[39m=\u001b[39mdata, json\u001b[39m=\u001b[39mjson, \u001b[39m*\u001b[39m\u001b[39m*\u001b[39mkwargs)\n",
      "File \u001b[1;32m~\\AppData\\Local\\Packages\\PythonSoftwareFoundation.Python.3.10_qbz5n2kfra8p0\\LocalCache\\local-packages\\Python310\\site-packages\\requests\\api.py:59\u001b[0m, in \u001b[0;36mrequest\u001b[1;34m(method, url, **kwargs)\u001b[0m\n\u001b[0;32m     55\u001b[0m \u001b[39m# By using the 'with' statement we are sure the session is closed, thus we\u001b[39;00m\n\u001b[0;32m     56\u001b[0m \u001b[39m# avoid leaving sockets open which can trigger a ResourceWarning in some\u001b[39;00m\n\u001b[0;32m     57\u001b[0m \u001b[39m# cases, and look like a memory leak in others.\u001b[39;00m\n\u001b[0;32m     58\u001b[0m \u001b[39mwith\u001b[39;00m sessions\u001b[39m.\u001b[39mSession() \u001b[39mas\u001b[39;00m session:\n\u001b[1;32m---> 59\u001b[0m     \u001b[39mreturn\u001b[39;00m session\u001b[39m.\u001b[39mrequest(method\u001b[39m=\u001b[39mmethod, url\u001b[39m=\u001b[39murl, \u001b[39m*\u001b[39m\u001b[39m*\u001b[39mkwargs)\n",
      "File \u001b[1;32m~\\AppData\\Local\\Packages\\PythonSoftwareFoundation.Python.3.10_qbz5n2kfra8p0\\LocalCache\\local-packages\\Python310\\site-packages\\requests\\sessions.py:587\u001b[0m, in \u001b[0;36mSession.request\u001b[1;34m(self, method, url, params, data, headers, cookies, files, auth, timeout, allow_redirects, proxies, hooks, stream, verify, cert, json)\u001b[0m\n\u001b[0;32m    582\u001b[0m send_kwargs \u001b[39m=\u001b[39m {\n\u001b[0;32m    583\u001b[0m     \u001b[39m\"\u001b[39m\u001b[39mtimeout\u001b[39m\u001b[39m\"\u001b[39m: timeout,\n\u001b[0;32m    584\u001b[0m     \u001b[39m\"\u001b[39m\u001b[39mallow_redirects\u001b[39m\u001b[39m\"\u001b[39m: allow_redirects,\n\u001b[0;32m    585\u001b[0m }\n\u001b[0;32m    586\u001b[0m send_kwargs\u001b[39m.\u001b[39mupdate(settings)\n\u001b[1;32m--> 587\u001b[0m resp \u001b[39m=\u001b[39m \u001b[39mself\u001b[39m\u001b[39m.\u001b[39msend(prep, \u001b[39m*\u001b[39m\u001b[39m*\u001b[39msend_kwargs)\n\u001b[0;32m    589\u001b[0m \u001b[39mreturn\u001b[39;00m resp\n",
      "File \u001b[1;32m~\\AppData\\Local\\Packages\\PythonSoftwareFoundation.Python.3.10_qbz5n2kfra8p0\\LocalCache\\local-packages\\Python310\\site-packages\\requests\\sessions.py:701\u001b[0m, in \u001b[0;36mSession.send\u001b[1;34m(self, request, **kwargs)\u001b[0m\n\u001b[0;32m    698\u001b[0m start \u001b[39m=\u001b[39m preferred_clock()\n\u001b[0;32m    700\u001b[0m \u001b[39m# Send the request\u001b[39;00m\n\u001b[1;32m--> 701\u001b[0m r \u001b[39m=\u001b[39m adapter\u001b[39m.\u001b[39msend(request, \u001b[39m*\u001b[39m\u001b[39m*\u001b[39mkwargs)\n\u001b[0;32m    703\u001b[0m \u001b[39m# Total elapsed time of the request (approximately)\u001b[39;00m\n\u001b[0;32m    704\u001b[0m elapsed \u001b[39m=\u001b[39m preferred_clock() \u001b[39m-\u001b[39m start\n",
      "File \u001b[1;32m~\\AppData\\Local\\Packages\\PythonSoftwareFoundation.Python.3.10_qbz5n2kfra8p0\\LocalCache\\local-packages\\Python310\\site-packages\\requests\\adapters.py:489\u001b[0m, in \u001b[0;36mHTTPAdapter.send\u001b[1;34m(self, request, stream, timeout, verify, cert, proxies)\u001b[0m\n\u001b[0;32m    487\u001b[0m \u001b[39mtry\u001b[39;00m:\n\u001b[0;32m    488\u001b[0m     \u001b[39mif\u001b[39;00m \u001b[39mnot\u001b[39;00m chunked:\n\u001b[1;32m--> 489\u001b[0m         resp \u001b[39m=\u001b[39m conn\u001b[39m.\u001b[39;49murlopen(\n\u001b[0;32m    490\u001b[0m             method\u001b[39m=\u001b[39;49mrequest\u001b[39m.\u001b[39;49mmethod,\n\u001b[0;32m    491\u001b[0m             url\u001b[39m=\u001b[39;49murl,\n\u001b[0;32m    492\u001b[0m             body\u001b[39m=\u001b[39;49mrequest\u001b[39m.\u001b[39;49mbody,\n\u001b[0;32m    493\u001b[0m             headers\u001b[39m=\u001b[39;49mrequest\u001b[39m.\u001b[39;49mheaders,\n\u001b[0;32m    494\u001b[0m             redirect\u001b[39m=\u001b[39;49m\u001b[39mFalse\u001b[39;49;00m,\n\u001b[0;32m    495\u001b[0m             assert_same_host\u001b[39m=\u001b[39;49m\u001b[39mFalse\u001b[39;49;00m,\n\u001b[0;32m    496\u001b[0m             preload_content\u001b[39m=\u001b[39;49m\u001b[39mFalse\u001b[39;49;00m,\n\u001b[0;32m    497\u001b[0m             decode_content\u001b[39m=\u001b[39;49m\u001b[39mFalse\u001b[39;49;00m,\n\u001b[0;32m    498\u001b[0m             retries\u001b[39m=\u001b[39;49m\u001b[39mself\u001b[39;49m\u001b[39m.\u001b[39;49mmax_retries,\n\u001b[0;32m    499\u001b[0m             timeout\u001b[39m=\u001b[39;49mtimeout,\n\u001b[0;32m    500\u001b[0m         )\n\u001b[0;32m    502\u001b[0m     \u001b[39m# Send the request.\u001b[39;00m\n\u001b[0;32m    503\u001b[0m     \u001b[39melse\u001b[39;00m:\n\u001b[0;32m    504\u001b[0m         \u001b[39mif\u001b[39;00m \u001b[39mhasattr\u001b[39m(conn, \u001b[39m\"\u001b[39m\u001b[39mproxy_pool\u001b[39m\u001b[39m\"\u001b[39m):\n",
      "File \u001b[1;32m~\\AppData\\Local\\Packages\\PythonSoftwareFoundation.Python.3.10_qbz5n2kfra8p0\\LocalCache\\local-packages\\Python310\\site-packages\\urllib3\\connectionpool.py:703\u001b[0m, in \u001b[0;36mHTTPConnectionPool.urlopen\u001b[1;34m(self, method, url, body, headers, retries, redirect, assert_same_host, timeout, pool_timeout, release_conn, chunked, body_pos, **response_kw)\u001b[0m\n\u001b[0;32m    700\u001b[0m     \u001b[39mself\u001b[39m\u001b[39m.\u001b[39m_prepare_proxy(conn)\n\u001b[0;32m    702\u001b[0m \u001b[39m# Make the request on the httplib connection object.\u001b[39;00m\n\u001b[1;32m--> 703\u001b[0m httplib_response \u001b[39m=\u001b[39m \u001b[39mself\u001b[39;49m\u001b[39m.\u001b[39;49m_make_request(\n\u001b[0;32m    704\u001b[0m     conn,\n\u001b[0;32m    705\u001b[0m     method,\n\u001b[0;32m    706\u001b[0m     url,\n\u001b[0;32m    707\u001b[0m     timeout\u001b[39m=\u001b[39;49mtimeout_obj,\n\u001b[0;32m    708\u001b[0m     body\u001b[39m=\u001b[39;49mbody,\n\u001b[0;32m    709\u001b[0m     headers\u001b[39m=\u001b[39;49mheaders,\n\u001b[0;32m    710\u001b[0m     chunked\u001b[39m=\u001b[39;49mchunked,\n\u001b[0;32m    711\u001b[0m )\n\u001b[0;32m    713\u001b[0m \u001b[39m# If we're going to release the connection in ``finally:``, then\u001b[39;00m\n\u001b[0;32m    714\u001b[0m \u001b[39m# the response doesn't need to know about the connection. Otherwise\u001b[39;00m\n\u001b[0;32m    715\u001b[0m \u001b[39m# it will also try to release it and we'll have a double-release\u001b[39;00m\n\u001b[0;32m    716\u001b[0m \u001b[39m# mess.\u001b[39;00m\n\u001b[0;32m    717\u001b[0m response_conn \u001b[39m=\u001b[39m conn \u001b[39mif\u001b[39;00m \u001b[39mnot\u001b[39;00m release_conn \u001b[39melse\u001b[39;00m \u001b[39mNone\u001b[39;00m\n",
      "File \u001b[1;32m~\\AppData\\Local\\Packages\\PythonSoftwareFoundation.Python.3.10_qbz5n2kfra8p0\\LocalCache\\local-packages\\Python310\\site-packages\\urllib3\\connectionpool.py:449\u001b[0m, in \u001b[0;36mHTTPConnectionPool._make_request\u001b[1;34m(self, conn, method, url, timeout, chunked, **httplib_request_kw)\u001b[0m\n\u001b[0;32m    444\u001b[0m             httplib_response \u001b[39m=\u001b[39m conn\u001b[39m.\u001b[39mgetresponse()\n\u001b[0;32m    445\u001b[0m         \u001b[39mexcept\u001b[39;00m \u001b[39mBaseException\u001b[39;00m \u001b[39mas\u001b[39;00m e:\n\u001b[0;32m    446\u001b[0m             \u001b[39m# Remove the TypeError from the exception chain in\u001b[39;00m\n\u001b[0;32m    447\u001b[0m             \u001b[39m# Python 3 (including for exceptions like SystemExit).\u001b[39;00m\n\u001b[0;32m    448\u001b[0m             \u001b[39m# Otherwise it looks like a bug in the code.\u001b[39;00m\n\u001b[1;32m--> 449\u001b[0m             six\u001b[39m.\u001b[39;49mraise_from(e, \u001b[39mNone\u001b[39;49;00m)\n\u001b[0;32m    450\u001b[0m \u001b[39mexcept\u001b[39;00m (SocketTimeout, BaseSSLError, SocketError) \u001b[39mas\u001b[39;00m e:\n\u001b[0;32m    451\u001b[0m     \u001b[39mself\u001b[39m\u001b[39m.\u001b[39m_raise_timeout(err\u001b[39m=\u001b[39me, url\u001b[39m=\u001b[39murl, timeout_value\u001b[39m=\u001b[39mread_timeout)\n",
      "File \u001b[1;32m<string>:3\u001b[0m, in \u001b[0;36mraise_from\u001b[1;34m(value, from_value)\u001b[0m\n",
      "File \u001b[1;32m~\\AppData\\Local\\Packages\\PythonSoftwareFoundation.Python.3.10_qbz5n2kfra8p0\\LocalCache\\local-packages\\Python310\\site-packages\\urllib3\\connectionpool.py:444\u001b[0m, in \u001b[0;36mHTTPConnectionPool._make_request\u001b[1;34m(self, conn, method, url, timeout, chunked, **httplib_request_kw)\u001b[0m\n\u001b[0;32m    441\u001b[0m \u001b[39mexcept\u001b[39;00m \u001b[39mTypeError\u001b[39;00m:\n\u001b[0;32m    442\u001b[0m     \u001b[39m# Python 3\u001b[39;00m\n\u001b[0;32m    443\u001b[0m     \u001b[39mtry\u001b[39;00m:\n\u001b[1;32m--> 444\u001b[0m         httplib_response \u001b[39m=\u001b[39m conn\u001b[39m.\u001b[39;49mgetresponse()\n\u001b[0;32m    445\u001b[0m     \u001b[39mexcept\u001b[39;00m \u001b[39mBaseException\u001b[39;00m \u001b[39mas\u001b[39;00m e:\n\u001b[0;32m    446\u001b[0m         \u001b[39m# Remove the TypeError from the exception chain in\u001b[39;00m\n\u001b[0;32m    447\u001b[0m         \u001b[39m# Python 3 (including for exceptions like SystemExit).\u001b[39;00m\n\u001b[0;32m    448\u001b[0m         \u001b[39m# Otherwise it looks like a bug in the code.\u001b[39;00m\n\u001b[0;32m    449\u001b[0m         six\u001b[39m.\u001b[39mraise_from(e, \u001b[39mNone\u001b[39;00m)\n",
      "File \u001b[1;32mC:\\Program Files\\WindowsApps\\PythonSoftwareFoundation.Python.3.10_3.10.2800.0_x64__qbz5n2kfra8p0\\lib\\http\\client.py:1374\u001b[0m, in \u001b[0;36mHTTPConnection.getresponse\u001b[1;34m(self)\u001b[0m\n\u001b[0;32m   1372\u001b[0m \u001b[39mtry\u001b[39;00m:\n\u001b[0;32m   1373\u001b[0m     \u001b[39mtry\u001b[39;00m:\n\u001b[1;32m-> 1374\u001b[0m         response\u001b[39m.\u001b[39;49mbegin()\n\u001b[0;32m   1375\u001b[0m     \u001b[39mexcept\u001b[39;00m \u001b[39mConnectionError\u001b[39;00m:\n\u001b[0;32m   1376\u001b[0m         \u001b[39mself\u001b[39m\u001b[39m.\u001b[39mclose()\n",
      "File \u001b[1;32mC:\\Program Files\\WindowsApps\\PythonSoftwareFoundation.Python.3.10_3.10.2800.0_x64__qbz5n2kfra8p0\\lib\\http\\client.py:318\u001b[0m, in \u001b[0;36mHTTPResponse.begin\u001b[1;34m(self)\u001b[0m\n\u001b[0;32m    316\u001b[0m \u001b[39m# read until we get a non-100 response\u001b[39;00m\n\u001b[0;32m    317\u001b[0m \u001b[39mwhile\u001b[39;00m \u001b[39mTrue\u001b[39;00m:\n\u001b[1;32m--> 318\u001b[0m     version, status, reason \u001b[39m=\u001b[39m \u001b[39mself\u001b[39;49m\u001b[39m.\u001b[39;49m_read_status()\n\u001b[0;32m    319\u001b[0m     \u001b[39mif\u001b[39;00m status \u001b[39m!=\u001b[39m CONTINUE:\n\u001b[0;32m    320\u001b[0m         \u001b[39mbreak\u001b[39;00m\n",
      "File \u001b[1;32mC:\\Program Files\\WindowsApps\\PythonSoftwareFoundation.Python.3.10_3.10.2800.0_x64__qbz5n2kfra8p0\\lib\\http\\client.py:279\u001b[0m, in \u001b[0;36mHTTPResponse._read_status\u001b[1;34m(self)\u001b[0m\n\u001b[0;32m    278\u001b[0m \u001b[39mdef\u001b[39;00m \u001b[39m_read_status\u001b[39m(\u001b[39mself\u001b[39m):\n\u001b[1;32m--> 279\u001b[0m     line \u001b[39m=\u001b[39m \u001b[39mstr\u001b[39m(\u001b[39mself\u001b[39;49m\u001b[39m.\u001b[39;49mfp\u001b[39m.\u001b[39;49mreadline(_MAXLINE \u001b[39m+\u001b[39;49m \u001b[39m1\u001b[39;49m), \u001b[39m\"\u001b[39m\u001b[39miso-8859-1\u001b[39m\u001b[39m\"\u001b[39m)\n\u001b[0;32m    280\u001b[0m     \u001b[39mif\u001b[39;00m \u001b[39mlen\u001b[39m(line) \u001b[39m>\u001b[39m _MAXLINE:\n\u001b[0;32m    281\u001b[0m         \u001b[39mraise\u001b[39;00m LineTooLong(\u001b[39m\"\u001b[39m\u001b[39mstatus line\u001b[39m\u001b[39m\"\u001b[39m)\n",
      "File \u001b[1;32mC:\\Program Files\\WindowsApps\\PythonSoftwareFoundation.Python.3.10_3.10.2800.0_x64__qbz5n2kfra8p0\\lib\\socket.py:705\u001b[0m, in \u001b[0;36mSocketIO.readinto\u001b[1;34m(self, b)\u001b[0m\n\u001b[0;32m    703\u001b[0m \u001b[39mwhile\u001b[39;00m \u001b[39mTrue\u001b[39;00m:\n\u001b[0;32m    704\u001b[0m     \u001b[39mtry\u001b[39;00m:\n\u001b[1;32m--> 705\u001b[0m         \u001b[39mreturn\u001b[39;00m \u001b[39mself\u001b[39;49m\u001b[39m.\u001b[39;49m_sock\u001b[39m.\u001b[39;49mrecv_into(b)\n\u001b[0;32m    706\u001b[0m     \u001b[39mexcept\u001b[39;00m timeout:\n\u001b[0;32m    707\u001b[0m         \u001b[39mself\u001b[39m\u001b[39m.\u001b[39m_timeout_occurred \u001b[39m=\u001b[39m \u001b[39mTrue\u001b[39;00m\n",
      "\u001b[1;31mKeyboardInterrupt\u001b[0m: "
     ]
    }
   ],
   "source": [
    "real_time_classify(True, True, 10)"
   ]
  },
  {
   "attachments": {},
   "cell_type": "markdown",
   "metadata": {},
   "source": [
    "For the real_time_classify function, test the case where process online is disabled, single classification is enabled, and FPS is 10."
   ]
  },
  {
   "cell_type": "code",
   "execution_count": 19,
   "metadata": {},
   "outputs": [
    {
     "name": "stdout",
     "output_type": "stream",
     "text": [
      "classifying in real time\n",
      "Starting up camera...\n",
      "Active. To stop, press Q.\n"
     ]
    },
    {
     "ename": "NotImplementedError",
     "evalue": "TODO: Local Models are not supported",
     "output_type": "error",
     "traceback": [
      "\u001b[1;31m---------------------------------------------------------------------------\u001b[0m",
      "\u001b[1;31mNotImplementedError\u001b[0m                       Traceback (most recent call last)",
      "Cell \u001b[1;32mIn[19], line 1\u001b[0m\n\u001b[1;32m----> 1\u001b[0m real_time_classify(\u001b[39mFalse\u001b[39;49;00m, \u001b[39mTrue\u001b[39;49;00m, \u001b[39m10\u001b[39;49m)\n",
      "File \u001b[1;32mc:\\Users\\santi\\Downloads\\classify.py:102\u001b[0m, in \u001b[0;36mreal_time_classify\u001b[1;34m(process_online, single_classification, fps_rate)\u001b[0m\n\u001b[0;32m    100\u001b[0m \u001b[39mif\u001b[39;00m cv2\u001b[39m.\u001b[39mwaitKey(\u001b[39m1\u001b[39m) \u001b[39m&\u001b[39m \u001b[39m0xFF\u001b[39m \u001b[39m==\u001b[39m \u001b[39mord\u001b[39m(\u001b[39m'\u001b[39m\u001b[39mq\u001b[39m\u001b[39m'\u001b[39m):\n\u001b[0;32m    101\u001b[0m     \u001b[39mbreak\u001b[39;00m\n\u001b[1;32m--> 102\u001b[0m preds \u001b[39m=\u001b[39m ssd_preds(img, process_online, single_classification)\n\u001b[0;32m    103\u001b[0m \u001b[39mif\u001b[39;00m preds \u001b[39mis\u001b[39;00m \u001b[39mNone\u001b[39;00m:\n\u001b[0;32m    104\u001b[0m     \u001b[39mprint\u001b[39m(\u001b[39m\"\u001b[39m\u001b[39mFailed to classify\u001b[39m\u001b[39m\"\u001b[39m)\n",
      "File \u001b[1;32mc:\\Users\\santi\\Downloads\\ssd.py:50\u001b[0m, in \u001b[0;36mssd_preds\u001b[1;34m(images, process_online, single_classification)\u001b[0m\n\u001b[0;32m     47\u001b[0m         \u001b[39mreturn\u001b[39;00m \u001b[39mNone\u001b[39;00m\n\u001b[0;32m     48\u001b[0m \u001b[39melse\u001b[39;00m:\n\u001b[0;32m     49\u001b[0m     \u001b[39m# Load model and predict\u001b[39;00m\n\u001b[1;32m---> 50\u001b[0m     \u001b[39mraise\u001b[39;00m \u001b[39mNotImplementedError\u001b[39;00m(\u001b[39m'\u001b[39m\u001b[39mTODO: Local Models are not supported\u001b[39m\u001b[39m'\u001b[39m)\n\u001b[0;32m     51\u001b[0m \u001b[39mreturn\u001b[39;00m res\n",
      "\u001b[1;31mNotImplementedError\u001b[0m: TODO: Local Models are not supported"
     ]
    }
   ],
   "source": [
    "real_time_classify(False, True, 10)"
   ]
  },
  {
   "attachments": {},
   "cell_type": "markdown",
   "metadata": {},
   "source": [
    "For the real_time_classify function, test the case where process online is enabled, single classification is disabled, and FPS is 10."
   ]
  },
  {
   "cell_type": "code",
   "execution_count": 20,
   "metadata": {},
   "outputs": [
    {
     "name": "stdout",
     "output_type": "stream",
     "text": [
      "classifying in real time\n",
      "Starting up camera...\n",
      "Active. To stop, press Q.\n",
      "{'bounding_box': [[[0.5, 0.5], [0.7, 0.7]]], 'class_probs': [1.0, 0, 0, 0, 0], 'obj_label': 'water bottles', 'trash_bin_label': 'recylable'}\n",
      "{'bounding_box': [[[0.5, 0.5], [0.7, 0.7]]], 'class_probs': [1.0, 0, 0, 0, 0], 'obj_label': 'water bottles', 'trash_bin_label': 'recylable'}\n",
      "{'bounding_box': [[[0.5, 0.5], [0.7, 0.7]]], 'class_probs': [1.0, 0, 0, 0, 0], 'obj_label': 'water bottles', 'trash_bin_label': 'recylable'}\n",
      "{'bounding_box': [[[0.5, 0.5], [0.7, 0.7]]], 'class_probs': [1.0, 0, 0, 0, 0], 'obj_label': 'water bottles', 'trash_bin_label': 'recylable'}\n",
      "{'bounding_box': [[[0.5, 0.5], [0.7, 0.7]]], 'class_probs': [1.0, 0, 0, 0, 0], 'obj_label': 'water bottles', 'trash_bin_label': 'recylable'}\n",
      "{'bounding_box': [[[0.5, 0.5], [0.7, 0.7]]], 'class_probs': [1.0, 0, 0, 0, 0], 'obj_label': 'water bottles', 'trash_bin_label': 'recylable'}\n",
      "{'bounding_box': [[[0.5, 0.5], [0.7, 0.7]]], 'class_probs': [1.0, 0, 0, 0, 0], 'obj_label': 'water bottles', 'trash_bin_label': 'recylable'}\n",
      "{'bounding_box': [[[0.5, 0.5], [0.7, 0.7]]], 'class_probs': [1.0, 0, 0, 0, 0], 'obj_label': 'water bottles', 'trash_bin_label': 'recylable'}\n",
      "{'bounding_box': [[[0.5, 0.5], [0.7, 0.7]]], 'class_probs': [1.0, 0, 0, 0, 0], 'obj_label': 'water bottles', 'trash_bin_label': 'recylable'}\n",
      "{'bounding_box': [[[0.5, 0.5], [0.7, 0.7]]], 'class_probs': [1.0, 0, 0, 0, 0], 'obj_label': 'water bottles', 'trash_bin_label': 'recylable'}\n",
      "{'bounding_box': [[[0.5, 0.5], [0.7, 0.7]]], 'class_probs': [1.0, 0, 0, 0, 0], 'obj_label': 'water bottles', 'trash_bin_label': 'recylable'}\n",
      "{'bounding_box': [[[0.5, 0.5], [0.7, 0.7]]], 'class_probs': [1.0, 0, 0, 0, 0], 'obj_label': 'water bottles', 'trash_bin_label': 'recylable'}\n",
      "{'bounding_box': [[[0.5, 0.5], [0.7, 0.7]]], 'class_probs': [1.0, 0, 0, 0, 0], 'obj_label': 'water bottles', 'trash_bin_label': 'recylable'}\n",
      "{'bounding_box': [[[0.5, 0.5], [0.7, 0.7]]], 'class_probs': [1.0, 0, 0, 0, 0], 'obj_label': 'water bottles', 'trash_bin_label': 'recylable'}\n"
     ]
    },
    {
     "ename": "KeyboardInterrupt",
     "evalue": "",
     "output_type": "error",
     "traceback": [
      "\u001b[1;31m---------------------------------------------------------------------------\u001b[0m",
      "\u001b[1;31mKeyboardInterrupt\u001b[0m                         Traceback (most recent call last)",
      "Cell \u001b[1;32mIn[20], line 1\u001b[0m\n\u001b[1;32m----> 1\u001b[0m real_time_classify(\u001b[39mTrue\u001b[39;49;00m, \u001b[39mFalse\u001b[39;49;00m, \u001b[39m10\u001b[39;49m)\n",
      "File \u001b[1;32mc:\\Users\\santi\\Downloads\\classify.py:102\u001b[0m, in \u001b[0;36mreal_time_classify\u001b[1;34m(process_online, single_classification, fps_rate)\u001b[0m\n\u001b[0;32m    100\u001b[0m \u001b[39mif\u001b[39;00m cv2\u001b[39m.\u001b[39mwaitKey(\u001b[39m1\u001b[39m) \u001b[39m&\u001b[39m \u001b[39m0xFF\u001b[39m \u001b[39m==\u001b[39m \u001b[39mord\u001b[39m(\u001b[39m'\u001b[39m\u001b[39mq\u001b[39m\u001b[39m'\u001b[39m):\n\u001b[0;32m    101\u001b[0m     \u001b[39mbreak\u001b[39;00m\n\u001b[1;32m--> 102\u001b[0m preds \u001b[39m=\u001b[39m ssd_preds(img, process_online, single_classification)\n\u001b[0;32m    103\u001b[0m \u001b[39mif\u001b[39;00m preds \u001b[39mis\u001b[39;00m \u001b[39mNone\u001b[39;00m:\n\u001b[0;32m    104\u001b[0m     \u001b[39mprint\u001b[39m(\u001b[39m\"\u001b[39m\u001b[39mFailed to classify\u001b[39m\u001b[39m\"\u001b[39m)\n",
      "File \u001b[1;32mc:\\Users\\santi\\Downloads\\ssd.py:13\u001b[0m, in \u001b[0;36mssd_preds\u001b[1;34m(images, process_online, single_classification)\u001b[0m\n\u001b[0;32m     11\u001b[0m byte_arr\u001b[39m.\u001b[39mwrite(images[\u001b[39m0\u001b[39m]\u001b[39m.\u001b[39mtobytes())\n\u001b[0;32m     12\u001b[0m byte_arr\u001b[39m.\u001b[39mseek(\u001b[39m0\u001b[39m)\n\u001b[1;32m---> 13\u001b[0m res \u001b[39m=\u001b[39m requests\u001b[39m.\u001b[39;49mpost(\n\u001b[0;32m     14\u001b[0m     \u001b[39m'\u001b[39;49m\u001b[39mhttp://127.0.0.1:5001/read/inference/apple\u001b[39;49m\u001b[39m'\u001b[39;49m, files\u001b[39m=\u001b[39;49m{\u001b[39m'\u001b[39;49m\u001b[39mimage\u001b[39;49m\u001b[39m'\u001b[39;49m: byte_arr})\n\u001b[0;32m     15\u001b[0m \u001b[39mif\u001b[39;00m res\u001b[39m.\u001b[39mstatus_code \u001b[39m==\u001b[39m \u001b[39m200\u001b[39m:\n\u001b[0;32m     16\u001b[0m     res \u001b[39m=\u001b[39m json\u001b[39m.\u001b[39mloads(res\u001b[39m.\u001b[39mcontent)\n",
      "File \u001b[1;32m~\\AppData\\Local\\Packages\\PythonSoftwareFoundation.Python.3.10_qbz5n2kfra8p0\\LocalCache\\local-packages\\Python310\\site-packages\\requests\\api.py:115\u001b[0m, in \u001b[0;36mpost\u001b[1;34m(url, data, json, **kwargs)\u001b[0m\n\u001b[0;32m    103\u001b[0m \u001b[39mdef\u001b[39;00m \u001b[39mpost\u001b[39m(url, data\u001b[39m=\u001b[39m\u001b[39mNone\u001b[39;00m, json\u001b[39m=\u001b[39m\u001b[39mNone\u001b[39;00m, \u001b[39m*\u001b[39m\u001b[39m*\u001b[39mkwargs):\n\u001b[0;32m    104\u001b[0m \u001b[39m    \u001b[39m\u001b[39mr\u001b[39m\u001b[39m\"\"\"Sends a POST request.\u001b[39;00m\n\u001b[0;32m    105\u001b[0m \n\u001b[0;32m    106\u001b[0m \u001b[39m    :param url: URL for the new :class:`Request` object.\u001b[39;00m\n\u001b[1;32m   (...)\u001b[0m\n\u001b[0;32m    112\u001b[0m \u001b[39m    :rtype: requests.Response\u001b[39;00m\n\u001b[0;32m    113\u001b[0m \u001b[39m    \"\"\"\u001b[39;00m\n\u001b[1;32m--> 115\u001b[0m     \u001b[39mreturn\u001b[39;00m request(\u001b[39m\"\u001b[39m\u001b[39mpost\u001b[39m\u001b[39m\"\u001b[39m, url, data\u001b[39m=\u001b[39mdata, json\u001b[39m=\u001b[39mjson, \u001b[39m*\u001b[39m\u001b[39m*\u001b[39mkwargs)\n",
      "File \u001b[1;32m~\\AppData\\Local\\Packages\\PythonSoftwareFoundation.Python.3.10_qbz5n2kfra8p0\\LocalCache\\local-packages\\Python310\\site-packages\\requests\\api.py:59\u001b[0m, in \u001b[0;36mrequest\u001b[1;34m(method, url, **kwargs)\u001b[0m\n\u001b[0;32m     55\u001b[0m \u001b[39m# By using the 'with' statement we are sure the session is closed, thus we\u001b[39;00m\n\u001b[0;32m     56\u001b[0m \u001b[39m# avoid leaving sockets open which can trigger a ResourceWarning in some\u001b[39;00m\n\u001b[0;32m     57\u001b[0m \u001b[39m# cases, and look like a memory leak in others.\u001b[39;00m\n\u001b[0;32m     58\u001b[0m \u001b[39mwith\u001b[39;00m sessions\u001b[39m.\u001b[39mSession() \u001b[39mas\u001b[39;00m session:\n\u001b[1;32m---> 59\u001b[0m     \u001b[39mreturn\u001b[39;00m session\u001b[39m.\u001b[39mrequest(method\u001b[39m=\u001b[39mmethod, url\u001b[39m=\u001b[39murl, \u001b[39m*\u001b[39m\u001b[39m*\u001b[39mkwargs)\n",
      "File \u001b[1;32m~\\AppData\\Local\\Packages\\PythonSoftwareFoundation.Python.3.10_qbz5n2kfra8p0\\LocalCache\\local-packages\\Python310\\site-packages\\requests\\sessions.py:587\u001b[0m, in \u001b[0;36mSession.request\u001b[1;34m(self, method, url, params, data, headers, cookies, files, auth, timeout, allow_redirects, proxies, hooks, stream, verify, cert, json)\u001b[0m\n\u001b[0;32m    582\u001b[0m send_kwargs \u001b[39m=\u001b[39m {\n\u001b[0;32m    583\u001b[0m     \u001b[39m\"\u001b[39m\u001b[39mtimeout\u001b[39m\u001b[39m\"\u001b[39m: timeout,\n\u001b[0;32m    584\u001b[0m     \u001b[39m\"\u001b[39m\u001b[39mallow_redirects\u001b[39m\u001b[39m\"\u001b[39m: allow_redirects,\n\u001b[0;32m    585\u001b[0m }\n\u001b[0;32m    586\u001b[0m send_kwargs\u001b[39m.\u001b[39mupdate(settings)\n\u001b[1;32m--> 587\u001b[0m resp \u001b[39m=\u001b[39m \u001b[39mself\u001b[39m\u001b[39m.\u001b[39msend(prep, \u001b[39m*\u001b[39m\u001b[39m*\u001b[39msend_kwargs)\n\u001b[0;32m    589\u001b[0m \u001b[39mreturn\u001b[39;00m resp\n",
      "File \u001b[1;32m~\\AppData\\Local\\Packages\\PythonSoftwareFoundation.Python.3.10_qbz5n2kfra8p0\\LocalCache\\local-packages\\Python310\\site-packages\\requests\\sessions.py:701\u001b[0m, in \u001b[0;36mSession.send\u001b[1;34m(self, request, **kwargs)\u001b[0m\n\u001b[0;32m    698\u001b[0m start \u001b[39m=\u001b[39m preferred_clock()\n\u001b[0;32m    700\u001b[0m \u001b[39m# Send the request\u001b[39;00m\n\u001b[1;32m--> 701\u001b[0m r \u001b[39m=\u001b[39m adapter\u001b[39m.\u001b[39msend(request, \u001b[39m*\u001b[39m\u001b[39m*\u001b[39mkwargs)\n\u001b[0;32m    703\u001b[0m \u001b[39m# Total elapsed time of the request (approximately)\u001b[39;00m\n\u001b[0;32m    704\u001b[0m elapsed \u001b[39m=\u001b[39m preferred_clock() \u001b[39m-\u001b[39m start\n",
      "File \u001b[1;32m~\\AppData\\Local\\Packages\\PythonSoftwareFoundation.Python.3.10_qbz5n2kfra8p0\\LocalCache\\local-packages\\Python310\\site-packages\\requests\\adapters.py:489\u001b[0m, in \u001b[0;36mHTTPAdapter.send\u001b[1;34m(self, request, stream, timeout, verify, cert, proxies)\u001b[0m\n\u001b[0;32m    487\u001b[0m \u001b[39mtry\u001b[39;00m:\n\u001b[0;32m    488\u001b[0m     \u001b[39mif\u001b[39;00m \u001b[39mnot\u001b[39;00m chunked:\n\u001b[1;32m--> 489\u001b[0m         resp \u001b[39m=\u001b[39m conn\u001b[39m.\u001b[39;49murlopen(\n\u001b[0;32m    490\u001b[0m             method\u001b[39m=\u001b[39;49mrequest\u001b[39m.\u001b[39;49mmethod,\n\u001b[0;32m    491\u001b[0m             url\u001b[39m=\u001b[39;49murl,\n\u001b[0;32m    492\u001b[0m             body\u001b[39m=\u001b[39;49mrequest\u001b[39m.\u001b[39;49mbody,\n\u001b[0;32m    493\u001b[0m             headers\u001b[39m=\u001b[39;49mrequest\u001b[39m.\u001b[39;49mheaders,\n\u001b[0;32m    494\u001b[0m             redirect\u001b[39m=\u001b[39;49m\u001b[39mFalse\u001b[39;49;00m,\n\u001b[0;32m    495\u001b[0m             assert_same_host\u001b[39m=\u001b[39;49m\u001b[39mFalse\u001b[39;49;00m,\n\u001b[0;32m    496\u001b[0m             preload_content\u001b[39m=\u001b[39;49m\u001b[39mFalse\u001b[39;49;00m,\n\u001b[0;32m    497\u001b[0m             decode_content\u001b[39m=\u001b[39;49m\u001b[39mFalse\u001b[39;49;00m,\n\u001b[0;32m    498\u001b[0m             retries\u001b[39m=\u001b[39;49m\u001b[39mself\u001b[39;49m\u001b[39m.\u001b[39;49mmax_retries,\n\u001b[0;32m    499\u001b[0m             timeout\u001b[39m=\u001b[39;49mtimeout,\n\u001b[0;32m    500\u001b[0m         )\n\u001b[0;32m    502\u001b[0m     \u001b[39m# Send the request.\u001b[39;00m\n\u001b[0;32m    503\u001b[0m     \u001b[39melse\u001b[39;00m:\n\u001b[0;32m    504\u001b[0m         \u001b[39mif\u001b[39;00m \u001b[39mhasattr\u001b[39m(conn, \u001b[39m\"\u001b[39m\u001b[39mproxy_pool\u001b[39m\u001b[39m\"\u001b[39m):\n",
      "File \u001b[1;32m~\\AppData\\Local\\Packages\\PythonSoftwareFoundation.Python.3.10_qbz5n2kfra8p0\\LocalCache\\local-packages\\Python310\\site-packages\\urllib3\\connectionpool.py:703\u001b[0m, in \u001b[0;36mHTTPConnectionPool.urlopen\u001b[1;34m(self, method, url, body, headers, retries, redirect, assert_same_host, timeout, pool_timeout, release_conn, chunked, body_pos, **response_kw)\u001b[0m\n\u001b[0;32m    700\u001b[0m     \u001b[39mself\u001b[39m\u001b[39m.\u001b[39m_prepare_proxy(conn)\n\u001b[0;32m    702\u001b[0m \u001b[39m# Make the request on the httplib connection object.\u001b[39;00m\n\u001b[1;32m--> 703\u001b[0m httplib_response \u001b[39m=\u001b[39m \u001b[39mself\u001b[39;49m\u001b[39m.\u001b[39;49m_make_request(\n\u001b[0;32m    704\u001b[0m     conn,\n\u001b[0;32m    705\u001b[0m     method,\n\u001b[0;32m    706\u001b[0m     url,\n\u001b[0;32m    707\u001b[0m     timeout\u001b[39m=\u001b[39;49mtimeout_obj,\n\u001b[0;32m    708\u001b[0m     body\u001b[39m=\u001b[39;49mbody,\n\u001b[0;32m    709\u001b[0m     headers\u001b[39m=\u001b[39;49mheaders,\n\u001b[0;32m    710\u001b[0m     chunked\u001b[39m=\u001b[39;49mchunked,\n\u001b[0;32m    711\u001b[0m )\n\u001b[0;32m    713\u001b[0m \u001b[39m# If we're going to release the connection in ``finally:``, then\u001b[39;00m\n\u001b[0;32m    714\u001b[0m \u001b[39m# the response doesn't need to know about the connection. Otherwise\u001b[39;00m\n\u001b[0;32m    715\u001b[0m \u001b[39m# it will also try to release it and we'll have a double-release\u001b[39;00m\n\u001b[0;32m    716\u001b[0m \u001b[39m# mess.\u001b[39;00m\n\u001b[0;32m    717\u001b[0m response_conn \u001b[39m=\u001b[39m conn \u001b[39mif\u001b[39;00m \u001b[39mnot\u001b[39;00m release_conn \u001b[39melse\u001b[39;00m \u001b[39mNone\u001b[39;00m\n",
      "File \u001b[1;32m~\\AppData\\Local\\Packages\\PythonSoftwareFoundation.Python.3.10_qbz5n2kfra8p0\\LocalCache\\local-packages\\Python310\\site-packages\\urllib3\\connectionpool.py:449\u001b[0m, in \u001b[0;36mHTTPConnectionPool._make_request\u001b[1;34m(self, conn, method, url, timeout, chunked, **httplib_request_kw)\u001b[0m\n\u001b[0;32m    444\u001b[0m             httplib_response \u001b[39m=\u001b[39m conn\u001b[39m.\u001b[39mgetresponse()\n\u001b[0;32m    445\u001b[0m         \u001b[39mexcept\u001b[39;00m \u001b[39mBaseException\u001b[39;00m \u001b[39mas\u001b[39;00m e:\n\u001b[0;32m    446\u001b[0m             \u001b[39m# Remove the TypeError from the exception chain in\u001b[39;00m\n\u001b[0;32m    447\u001b[0m             \u001b[39m# Python 3 (including for exceptions like SystemExit).\u001b[39;00m\n\u001b[0;32m    448\u001b[0m             \u001b[39m# Otherwise it looks like a bug in the code.\u001b[39;00m\n\u001b[1;32m--> 449\u001b[0m             six\u001b[39m.\u001b[39;49mraise_from(e, \u001b[39mNone\u001b[39;49;00m)\n\u001b[0;32m    450\u001b[0m \u001b[39mexcept\u001b[39;00m (SocketTimeout, BaseSSLError, SocketError) \u001b[39mas\u001b[39;00m e:\n\u001b[0;32m    451\u001b[0m     \u001b[39mself\u001b[39m\u001b[39m.\u001b[39m_raise_timeout(err\u001b[39m=\u001b[39me, url\u001b[39m=\u001b[39murl, timeout_value\u001b[39m=\u001b[39mread_timeout)\n",
      "File \u001b[1;32m<string>:3\u001b[0m, in \u001b[0;36mraise_from\u001b[1;34m(value, from_value)\u001b[0m\n",
      "File \u001b[1;32m~\\AppData\\Local\\Packages\\PythonSoftwareFoundation.Python.3.10_qbz5n2kfra8p0\\LocalCache\\local-packages\\Python310\\site-packages\\urllib3\\connectionpool.py:444\u001b[0m, in \u001b[0;36mHTTPConnectionPool._make_request\u001b[1;34m(self, conn, method, url, timeout, chunked, **httplib_request_kw)\u001b[0m\n\u001b[0;32m    441\u001b[0m \u001b[39mexcept\u001b[39;00m \u001b[39mTypeError\u001b[39;00m:\n\u001b[0;32m    442\u001b[0m     \u001b[39m# Python 3\u001b[39;00m\n\u001b[0;32m    443\u001b[0m     \u001b[39mtry\u001b[39;00m:\n\u001b[1;32m--> 444\u001b[0m         httplib_response \u001b[39m=\u001b[39m conn\u001b[39m.\u001b[39;49mgetresponse()\n\u001b[0;32m    445\u001b[0m     \u001b[39mexcept\u001b[39;00m \u001b[39mBaseException\u001b[39;00m \u001b[39mas\u001b[39;00m e:\n\u001b[0;32m    446\u001b[0m         \u001b[39m# Remove the TypeError from the exception chain in\u001b[39;00m\n\u001b[0;32m    447\u001b[0m         \u001b[39m# Python 3 (including for exceptions like SystemExit).\u001b[39;00m\n\u001b[0;32m    448\u001b[0m         \u001b[39m# Otherwise it looks like a bug in the code.\u001b[39;00m\n\u001b[0;32m    449\u001b[0m         six\u001b[39m.\u001b[39mraise_from(e, \u001b[39mNone\u001b[39;00m)\n",
      "File \u001b[1;32mC:\\Program Files\\WindowsApps\\PythonSoftwareFoundation.Python.3.10_3.10.2800.0_x64__qbz5n2kfra8p0\\lib\\http\\client.py:1374\u001b[0m, in \u001b[0;36mHTTPConnection.getresponse\u001b[1;34m(self)\u001b[0m\n\u001b[0;32m   1372\u001b[0m \u001b[39mtry\u001b[39;00m:\n\u001b[0;32m   1373\u001b[0m     \u001b[39mtry\u001b[39;00m:\n\u001b[1;32m-> 1374\u001b[0m         response\u001b[39m.\u001b[39;49mbegin()\n\u001b[0;32m   1375\u001b[0m     \u001b[39mexcept\u001b[39;00m \u001b[39mConnectionError\u001b[39;00m:\n\u001b[0;32m   1376\u001b[0m         \u001b[39mself\u001b[39m\u001b[39m.\u001b[39mclose()\n",
      "File \u001b[1;32mC:\\Program Files\\WindowsApps\\PythonSoftwareFoundation.Python.3.10_3.10.2800.0_x64__qbz5n2kfra8p0\\lib\\http\\client.py:318\u001b[0m, in \u001b[0;36mHTTPResponse.begin\u001b[1;34m(self)\u001b[0m\n\u001b[0;32m    316\u001b[0m \u001b[39m# read until we get a non-100 response\u001b[39;00m\n\u001b[0;32m    317\u001b[0m \u001b[39mwhile\u001b[39;00m \u001b[39mTrue\u001b[39;00m:\n\u001b[1;32m--> 318\u001b[0m     version, status, reason \u001b[39m=\u001b[39m \u001b[39mself\u001b[39;49m\u001b[39m.\u001b[39;49m_read_status()\n\u001b[0;32m    319\u001b[0m     \u001b[39mif\u001b[39;00m status \u001b[39m!=\u001b[39m CONTINUE:\n\u001b[0;32m    320\u001b[0m         \u001b[39mbreak\u001b[39;00m\n",
      "File \u001b[1;32mC:\\Program Files\\WindowsApps\\PythonSoftwareFoundation.Python.3.10_3.10.2800.0_x64__qbz5n2kfra8p0\\lib\\http\\client.py:279\u001b[0m, in \u001b[0;36mHTTPResponse._read_status\u001b[1;34m(self)\u001b[0m\n\u001b[0;32m    278\u001b[0m \u001b[39mdef\u001b[39;00m \u001b[39m_read_status\u001b[39m(\u001b[39mself\u001b[39m):\n\u001b[1;32m--> 279\u001b[0m     line \u001b[39m=\u001b[39m \u001b[39mstr\u001b[39m(\u001b[39mself\u001b[39;49m\u001b[39m.\u001b[39;49mfp\u001b[39m.\u001b[39;49mreadline(_MAXLINE \u001b[39m+\u001b[39;49m \u001b[39m1\u001b[39;49m), \u001b[39m\"\u001b[39m\u001b[39miso-8859-1\u001b[39m\u001b[39m\"\u001b[39m)\n\u001b[0;32m    280\u001b[0m     \u001b[39mif\u001b[39;00m \u001b[39mlen\u001b[39m(line) \u001b[39m>\u001b[39m _MAXLINE:\n\u001b[0;32m    281\u001b[0m         \u001b[39mraise\u001b[39;00m LineTooLong(\u001b[39m\"\u001b[39m\u001b[39mstatus line\u001b[39m\u001b[39m\"\u001b[39m)\n",
      "File \u001b[1;32mC:\\Program Files\\WindowsApps\\PythonSoftwareFoundation.Python.3.10_3.10.2800.0_x64__qbz5n2kfra8p0\\lib\\socket.py:705\u001b[0m, in \u001b[0;36mSocketIO.readinto\u001b[1;34m(self, b)\u001b[0m\n\u001b[0;32m    703\u001b[0m \u001b[39mwhile\u001b[39;00m \u001b[39mTrue\u001b[39;00m:\n\u001b[0;32m    704\u001b[0m     \u001b[39mtry\u001b[39;00m:\n\u001b[1;32m--> 705\u001b[0m         \u001b[39mreturn\u001b[39;00m \u001b[39mself\u001b[39;49m\u001b[39m.\u001b[39;49m_sock\u001b[39m.\u001b[39;49mrecv_into(b)\n\u001b[0;32m    706\u001b[0m     \u001b[39mexcept\u001b[39;00m timeout:\n\u001b[0;32m    707\u001b[0m         \u001b[39mself\u001b[39m\u001b[39m.\u001b[39m_timeout_occurred \u001b[39m=\u001b[39m \u001b[39mTrue\u001b[39;00m\n",
      "\u001b[1;31mKeyboardInterrupt\u001b[0m: "
     ]
    }
   ],
   "source": [
    "real_time_classify(True, False, 10)"
   ]
  },
  {
   "attachments": {},
   "cell_type": "markdown",
   "metadata": {},
   "source": [
    "For the real_time_classify function, test the case where process online is disabled, single classification is disabled, and FPS is 10."
   ]
  },
  {
   "cell_type": "code",
   "execution_count": 21,
   "metadata": {},
   "outputs": [
    {
     "name": "stdout",
     "output_type": "stream",
     "text": [
      "classifying in real time\n",
      "Starting up camera...\n",
      "Active. To stop, press Q.\n"
     ]
    },
    {
     "ename": "NotImplementedError",
     "evalue": "TODO: Local Models are not supported",
     "output_type": "error",
     "traceback": [
      "\u001b[1;31m---------------------------------------------------------------------------\u001b[0m",
      "\u001b[1;31mNotImplementedError\u001b[0m                       Traceback (most recent call last)",
      "Cell \u001b[1;32mIn[21], line 1\u001b[0m\n\u001b[1;32m----> 1\u001b[0m real_time_classify(\u001b[39mFalse\u001b[39;49;00m, \u001b[39mFalse\u001b[39;49;00m, \u001b[39m10\u001b[39;49m)\n",
      "File \u001b[1;32mc:\\Users\\santi\\Downloads\\classify.py:102\u001b[0m, in \u001b[0;36mreal_time_classify\u001b[1;34m(process_online, single_classification, fps_rate)\u001b[0m\n\u001b[0;32m    100\u001b[0m \u001b[39mif\u001b[39;00m cv2\u001b[39m.\u001b[39mwaitKey(\u001b[39m1\u001b[39m) \u001b[39m&\u001b[39m \u001b[39m0xFF\u001b[39m \u001b[39m==\u001b[39m \u001b[39mord\u001b[39m(\u001b[39m'\u001b[39m\u001b[39mq\u001b[39m\u001b[39m'\u001b[39m):\n\u001b[0;32m    101\u001b[0m     \u001b[39mbreak\u001b[39;00m\n\u001b[1;32m--> 102\u001b[0m preds \u001b[39m=\u001b[39m ssd_preds(img, process_online, single_classification)\n\u001b[0;32m    103\u001b[0m \u001b[39mif\u001b[39;00m preds \u001b[39mis\u001b[39;00m \u001b[39mNone\u001b[39;00m:\n\u001b[0;32m    104\u001b[0m     \u001b[39mprint\u001b[39m(\u001b[39m\"\u001b[39m\u001b[39mFailed to classify\u001b[39m\u001b[39m\"\u001b[39m)\n",
      "File \u001b[1;32mc:\\Users\\santi\\Downloads\\ssd.py:50\u001b[0m, in \u001b[0;36mssd_preds\u001b[1;34m(images, process_online, single_classification)\u001b[0m\n\u001b[0;32m     47\u001b[0m         \u001b[39mreturn\u001b[39;00m \u001b[39mNone\u001b[39;00m\n\u001b[0;32m     48\u001b[0m \u001b[39melse\u001b[39;00m:\n\u001b[0;32m     49\u001b[0m     \u001b[39m# Load model and predict\u001b[39;00m\n\u001b[1;32m---> 50\u001b[0m     \u001b[39mraise\u001b[39;00m \u001b[39mNotImplementedError\u001b[39;00m(\u001b[39m'\u001b[39m\u001b[39mTODO: Local Models are not supported\u001b[39m\u001b[39m'\u001b[39m)\n\u001b[0;32m     51\u001b[0m \u001b[39mreturn\u001b[39;00m res\n",
      "\u001b[1;31mNotImplementedError\u001b[0m: TODO: Local Models are not supported"
     ]
    },
    {
     "ename": "",
     "evalue": "",
     "output_type": "error",
     "traceback": [
      "\u001b[1;31mThe Kernel crashed while executing code in the the current cell or a previous cell. Please review the code in the cell(s) to identify a possible cause of the failure. Click <a href='https://aka.ms/vscodeJupyterKernelCrash'>here</a> for more info. View Jupyter <a href='command:jupyter.viewOutput'>log</a> for further details."
     ]
    }
   ],
   "source": [
    "real_time_classify(False, False, 10)"
   ]
  }
 ],
 "metadata": {
  "kernelspec": {
   "display_name": "Python 3",
   "language": "python",
   "name": "python3"
  },
  "language_info": {
   "codemirror_mode": {
    "name": "ipython",
    "version": 3
   },
   "file_extension": ".py",
   "mimetype": "text/x-python",
   "name": "python",
   "nbconvert_exporter": "python",
   "pygments_lexer": "ipython3",
   "version": "3.10.10"
  },
  "orig_nbformat": 4,
  "vscode": {
   "interpreter": {
    "hash": "e9265a22922cf29a7916131f3def5e811c3f0863f796f834e6c61767dd663e75"
   }
  }
 },
 "nbformat": 4,
 "nbformat_minor": 2
}
