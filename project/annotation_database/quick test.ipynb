{
 "cells": [
  {
   "cell_type": "code",
   "execution_count": 1,
   "id": "1f58cfb4-98a2-445f-a00b-0778217e352e",
   "metadata": {},
   "outputs": [],
   "source": [
    "import requests\n",
    "import numpy as np\n",
    "import json\n",
    "from io import BytesIO\n",
    "import sqlite3"
   ]
  },
  {
   "cell_type": "code",
   "execution_count": 2,
   "id": "84294d08-294c-49a4-aaba-f651ca371004",
   "metadata": {},
   "outputs": [
    {
     "data": {
      "text/plain": [
       "(<Response [200]>, b'{\"data\":\"1\",\"error_code\":0,\"error_msg\":null}\\n')"
      ]
     },
     "execution_count": 2,
     "metadata": {},
     "output_type": "execute_result"
    }
   ],
   "source": [
    "res = requests.post('http://localhost:5000/create/entry', data={'key': 'secretkey', 'annotation': '', 'num_annotations': 3, 'dataset': 'custom', 'metadata': ''}, files={'image': open('cat.jpg','rb')})\n",
    "res, res.content"
   ]
  },
  {
   "cell_type": "code",
   "execution_count": 3,
   "id": "d7341772-e18e-47c8-a14d-6f7e8962b11b",
   "metadata": {
    "tags": []
   },
   "outputs": [
    {
     "name": "stdout",
     "output_type": "stream",
     "text": [
      "[ 49  84  13 106  56  93  59   6  60  15]\n"
     ]
    },
    {
     "data": {
      "text/plain": [
       "(<Response [200]>, b'{\"data\":\"2\",\"error_code\":0,\"error_msg\":null}\\n')"
      ]
     },
     "execution_count": 3,
     "metadata": {},
     "output_type": "execute_result"
    }
   ],
   "source": [
    "byte_arr = BytesIO()\n",
    "nums = np.random.randint(0, 127, 10, dtype=np.uint8)\n",
    "print(nums)\n",
    "byte_arr.write(nums.tobytes())\n",
    "byte_arr.seek(0)\n",
    "\n",
    "res = requests.post('http://localhost:5000/create/entry', data={'key': 'secretkey', 'annotation': '', 'num_annotations': 0, 'dataset': 'custom', 'metadata': ''}, files={'image': byte_arr})\n",
    "res, res.content"
   ]
  },
  {
   "cell_type": "code",
   "execution_count": 4,
   "id": "2773b2dc-ae23-4ff3-b2a7-44f2b72c6cd4",
   "metadata": {},
   "outputs": [
    {
     "data": {
      "text/plain": [
       "(<Response [200]>,\n",
       " b'{\"data\":{\"annotation\":\"\",\"dataset\":\"custom\",\"id\":1,\"metadata\":\"\",\"num_annotations\":3},\"error_code\":0,\"error_msg\":null}\\n',\n",
       " {'data': {'annotation': '',\n",
       "   'dataset': 'custom',\n",
       "   'id': 1,\n",
       "   'metadata': '',\n",
       "   'num_annotations': 3},\n",
       "  'error_code': 0,\n",
       "  'error_msg': None})"
      ]
     },
     "execution_count": 4,
     "metadata": {},
     "output_type": "execute_result"
    }
   ],
   "source": [
    "res = requests.get('http://localhost:5000/read/entry/1')\n",
    "res, res.content, json.loads(res.content)"
   ]
  },
  {
   "cell_type": "code",
   "execution_count": 5,
   "id": "8d0651c8-8138-4f9d-8da8-701d6a4fb68e",
   "metadata": {},
   "outputs": [
    {
     "data": {
      "text/plain": [
       "(<Response [200]>,\n",
       " b'1T\\rj8];\\x06<\\x0f',\n",
       " array([ 49,  84,  13, 106,  56,  93,  59,   6,  60,  15], dtype=uint8))"
      ]
     },
     "execution_count": 5,
     "metadata": {},
     "output_type": "execute_result"
    }
   ],
   "source": [
    "res = requests.get('http://localhost:5000/read/entry/image/2')\n",
    "res, res.content, np.frombuffer(res.content, dtype=np.uint8)#json.loads(res.content)"
   ]
  },
  {
   "cell_type": "code",
   "execution_count": 6,
   "id": "b32d0902-d00e-4a9a-945b-8d6eb7aaaeb0",
   "metadata": {},
   "outputs": [
    {
     "data": {
      "text/plain": [
       "(<Response [200]>,\n",
       " b'{\"data\":[{\"annotation\":\"\",\"dataset\":\"custom\",\"id\":1,\"metadata\":\"\",\"num_annotations\":3},{\"annotation\":\"\",\"dataset\":\"custom\",\"id\":2,\"metadata\":\"\",\"num_annotations\":0}],\"error_code\":0,\"error_msg\":null}\\n',\n",
       " {'data': [{'annotation': '',\n",
       "    'dataset': 'custom',\n",
       "    'id': 1,\n",
       "    'metadata': '',\n",
       "    'num_annotations': 3},\n",
       "   {'annotation': '',\n",
       "    'dataset': 'custom',\n",
       "    'id': 2,\n",
       "    'metadata': '',\n",
       "    'num_annotations': 0}],\n",
       "  'error_code': 0,\n",
       "  'error_msg': None})"
      ]
     },
     "execution_count": 6,
     "metadata": {},
     "output_type": "execute_result"
    }
   ],
   "source": [
    "res = requests.get('http://localhost:5000/read/search/id >= 1')\n",
    "res, res.content, json.loads(res.content)"
   ]
  },
  {
   "cell_type": "code",
   "execution_count": 7,
   "id": "c3489046-c25b-4527-a898-9e539768816a",
   "metadata": {},
   "outputs": [
    {
     "data": {
      "text/plain": [
       "(<Response [200]>,\n",
       " b'{\"data\":{\"annotation\":\"\",\"dataset\":\"custom\",\"id\":2,\"metadata\":\"\",\"num_annotations\":0},\"error_code\":0,\"error_msg\":null}\\n',\n",
       " {'data': {'annotation': '',\n",
       "   'dataset': 'custom',\n",
       "   'id': 2,\n",
       "   'metadata': '',\n",
       "   'num_annotations': 0},\n",
       "  'error_code': 0,\n",
       "  'error_msg': None})"
      ]
     },
     "execution_count": 7,
     "metadata": {},
     "output_type": "execute_result"
    }
   ],
   "source": [
    "res = requests.get('http://localhost:5000/read/annotation/min')\n",
    "res, res.content, json.loads(res.content)"
   ]
  },
  {
   "cell_type": "code",
   "execution_count": 8,
   "id": "d8280006-fc91-48fc-8eee-e5337a32d842",
   "metadata": {},
   "outputs": [
    {
     "data": {
      "text/plain": [
       "(<Response [200]>,\n",
       " b'{\"data\":{\"annotation\":\"\",\"dataset\":\"custom\",\"id\":1,\"metadata\":\"\",\"num_annotations\":3},\"error_code\":0,\"error_msg\":null}\\n',\n",
       " {'data': {'annotation': '',\n",
       "   'dataset': 'custom',\n",
       "   'id': 1,\n",
       "   'metadata': '',\n",
       "   'num_annotations': 3},\n",
       "  'error_code': 0,\n",
       "  'error_msg': None})"
      ]
     },
     "execution_count": 8,
     "metadata": {},
     "output_type": "execute_result"
    }
   ],
   "source": [
    "res = requests.get('http://localhost:5000/read/annotation/max')\n",
    "res, res.content, json.loads(res.content)"
   ]
  },
  {
   "cell_type": "code",
   "execution_count": 9,
   "id": "c34dfa0d-5850-4ecb-a768-833c5caf3f19",
   "metadata": {},
   "outputs": [
    {
     "data": {
      "text/plain": [
       "(<Response [200]>, b'{\"error_code\":0,\"error_msg\":null,\"successful\":true}\\n')"
      ]
     },
     "execution_count": 9,
     "metadata": {},
     "output_type": "execute_result"
    }
   ],
   "source": [
    "res = requests.put('http://localhost:5000/update/approve/2', data={'key': 'secretkey'})\n",
    "res, res.content"
   ]
  },
  {
   "cell_type": "code",
   "execution_count": 10,
   "id": "88dfd8bb-5f94-4570-ba90-2e52a9175d05",
   "metadata": {},
   "outputs": [
    {
     "data": {
      "text/plain": [
       "(<Response [200]>, b'{\"error_code\":0,\"error_msg\":null,\"successful\":true}\\n')"
      ]
     },
     "execution_count": 10,
     "metadata": {},
     "output_type": "execute_result"
    }
   ],
   "source": [
    "res = requests.put('http://localhost:5000/update/disapprove/1', data={'key': 'secretkey'})\n",
    "res, res.content"
   ]
  },
  {
   "cell_type": "code",
   "execution_count": 11,
   "id": "9fd90490-8018-42c3-85cf-ff63ce83bfcb",
   "metadata": {},
   "outputs": [
    {
     "name": "stdout",
     "output_type": "stream",
     "text": [
      "[(1, '', 2, 'custom', ''), (2, '', 1, 'custom', '')]\n"
     ]
    }
   ],
   "source": [
    "IMAGE_DATA_DB = \"imageDB.db\"\n",
    "conn = sqlite3.connect(IMAGE_DATA_DB)\n",
    "cursor = conn.cursor()\n",
    "cursor.execute('SELECT * FROM image_data')\n",
    "print(cursor.fetchall())\n",
    "conn.close()"
   ]
  },
  {
   "cell_type": "code",
   "execution_count": 12,
   "id": "27db75d9-9999-45e3-8f12-549bc3b64274",
   "metadata": {},
   "outputs": [
    {
     "data": {
      "text/plain": [
       "(<Response [200]>, b'{\"error_code\":0,\"error_msg\":null,\"successful\":true}\\n')"
      ]
     },
     "execution_count": 12,
     "metadata": {},
     "output_type": "execute_result"
    }
   ],
   "source": [
    "res = requests.put('http://localhost:5000/update/entry/1', data={'key': 'secretkey', 'metadata': 'hello'})\n",
    "res, res.content"
   ]
  },
  {
   "cell_type": "code",
   "execution_count": 13,
   "id": "bec68b95-a24a-40b3-b638-127b1e261d6f",
   "metadata": {},
   "outputs": [
    {
     "data": {
      "text/plain": [
       "(<Response [200]>, b'{\"error_code\":0,\"error_msg\":null,\"successful\":true}\\n')"
      ]
     },
     "execution_count": 13,
     "metadata": {},
     "output_type": "execute_result"
    }
   ],
   "source": [
    "res = requests.put('http://localhost:5000/update/entry/1', data={'key': 'secretkey', 'num_annotations': 55})\n",
    "res, res.content"
   ]
  },
  {
   "cell_type": "code",
   "execution_count": 14,
   "id": "cc8bbce2-be04-4ac1-950b-c6d70f65de30",
   "metadata": {},
   "outputs": [
    {
     "data": {
      "text/plain": [
       "(<Response [200]>, b'{\"error_code\":0,\"error_msg\":null,\"successful\":true}\\n')"
      ]
     },
     "execution_count": 14,
     "metadata": {},
     "output_type": "execute_result"
    }
   ],
   "source": [
    "res = requests.delete('http://localhost:5000/delete/entry/2', data={'key': 'secretkey'})\n",
    "res, res.content"
   ]
  },
  {
   "cell_type": "code",
   "execution_count": 15,
   "id": "4bbb2830-d952-4aa0-8d19-f9812b35e07a",
   "metadata": {},
   "outputs": [
    {
     "name": "stdout",
     "output_type": "stream",
     "text": [
      "[(1, '', 55, 'custom', 'hello')]\n"
     ]
    }
   ],
   "source": [
    "IMAGE_DATA_DB = \"imageDB.db\"\n",
    "conn = sqlite3.connect(IMAGE_DATA_DB)\n",
    "cursor = conn.cursor()\n",
    "cursor.execute('SELECT * FROM image_data')\n",
    "print(cursor.fetchall())\n",
    "conn.close()"
   ]
  },
  {
   "cell_type": "code",
   "execution_count": null,
   "id": "ac661f52-aa55-47bb-829b-372c59dad19e",
   "metadata": {},
   "outputs": [],
   "source": []
  }
 ],
 "metadata": {
  "kernelspec": {
   "display_name": "Python 3 (ipykernel)",
   "language": "python",
   "name": "python3"
  },
  "language_info": {
   "codemirror_mode": {
    "name": "ipython",
    "version": 3
   },
   "file_extension": ".py",
   "mimetype": "text/x-python",
   "name": "python",
   "nbconvert_exporter": "python",
   "pygments_lexer": "ipython3",
   "version": "3.9.13"
  }
 },
 "nbformat": 4,
 "nbformat_minor": 5
}
