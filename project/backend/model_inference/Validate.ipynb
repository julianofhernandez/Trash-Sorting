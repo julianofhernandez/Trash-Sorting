{
 "cells": [
  {
   "cell_type": "code",
   "execution_count": 1,
   "id": "64591d4d",
   "metadata": {},
   "outputs": [],
   "source": [
    "import os\n",
    "%load_ext autoreload\n",
    "%autoreload 2\n",
    "from ssd import ssd_preds\n",
    "import cv2\n",
    "import json\n",
    "from tqdm import tqdm\n",
    "from sklearn.metrics import confusion_matrix\n",
    "from matplotlib import pyplot as plt\n",
    "import numpy as np\n",
    "from PIL import Image"
   ]
  },
  {
   "cell_type": "markdown",
   "id": "ec1caf52",
   "metadata": {},
   "source": [
    "Ensure that the backend server is running using:\n",
    "```python project\\backend\\model_inference\\model_inference_app.py```"
   ]
  },
  {
   "cell_type": "code",
   "execution_count": 15,
   "id": "2e26a00d",
   "metadata": {},
   "outputs": [],
   "source": [
    "# validation_dataset = \"C:/Users/julian/Downloads/validation\"\n",
    "validation_dataset = \"../../../images/validation/\""
   ]
  },
  {
   "cell_type": "code",
   "execution_count": 9,
   "id": "9e0725f4",
   "metadata": {},
   "outputs": [
    {
     "name": "stdout",
     "output_type": "stream",
     "text": [
      "[\n",
      "  {\n",
      "    \"object_class\": \"Other plastic bottle\",\n",
      "    \"object_class_probs\": [\n",
      "      0.27272486686706543,\n",
      "      0.20217618346214294,\n",
      "      0.10821132361888885,\n",
      "      0.09578986465930939,\n",
      "      0.09394338726997375,\n",
      "      0.06147213280200958,\n",
      "      0.05748726800084114,\n",
      "      0.03758174553513527,\n",
      "      0.037049513310194016,\n",
      "      0.03356369957327843\n",
      "    ],\n",
      "    \"object_classes\": [\n",
      "      \"Other plastic bottle\",\n",
      "      \"Polypropylene bag\",\n",
      "      \"Clear plastic bottle\",\n",
      "      \"Other plastic\",\n",
      "      \"Foam food container\",\n",
      "      \"Tupperware\",\n",
      "      \"Other plastic container\",\n",
      "      \"Single-use carrier bag\",\n",
      "      \"Plastic glooves\",\n",
      "      \"Other carton\"\n",
      "    ],\n",
      "    \"object_trash_class\": \"Garbage\",\n",
      "    \"object_trash_class_probs\": [\n",
      "      0.25,\n",
      "      0.25,\n",
      "      0.25,\n",
      "      0.25\n",
      "    ],\n",
      "    \"trash_class\": \"Household hazardous waste\",\n",
      "    \"trash_class_probs\": [\n",
      "      0.01702374964952469,\n",
      "      0.1877964437007904,\n",
      "      0.08119114488363266,\n",
      "      0.7139886021614075\n",
      "    ],\n",
      "    \"trash_classes\": [\n",
      "      \"Garbage\",\n",
      "      \"Recyclable\",\n",
      "      \"Organic Waste\",\n",
      "      \"Household hazardous waste\"\n",
      "    ]\n",
      "  }\n",
      "]\n"
     ]
    }
   ],
   "source": [
    "image_path = 'C:/Users/julian/Downloads/validation\\Recyclable\\R_993.jpg'\n",
    "img = cv2.imread(image_path)\n",
    "pil_image = Image.fromarray(img)\n",
    "results = ssd_preds([pil_image], 'efficientnet_v2_l')\n",
    "print(json.dumps(results, indent=2))"
   ]
  },
  {
   "cell_type": "code",
   "execution_count": null,
   "id": "1363499e",
   "metadata": {},
   "outputs": [
    {
     "name": "stdout",
     "output_type": "stream",
     "text": [
      "../../../images/validation/Garbage\\trash80.jpg\n",
      "object_class: cup\n",
      "Prediction: Recyclable; True label: Garbage\n",
      "\n",
      "../../../images/validation/Garbage\\trash87.jpg\n",
      "object_class: pill bottle\n",
      "Prediction: Recyclable; True label: Garbage\n",
      "\n",
      "../../../images/validation/Household hazardous waste\\479.jpg\n",
      "object_class: window screen\n",
      "Prediction: Garbage; True label: Household hazardous waste\n",
      "\n",
      "../../../images/validation/Organic Waste\\O_12334.jpg\n",
      "object_class: coral reef\n",
      "Prediction: Garbage; True label: Organic Waste\n",
      "\n",
      "../../../images/validation/Organic Waste\\O_13718.jpg\n",
      "object_class: candle\n",
      "Prediction: Garbage; True label: Organic Waste\n",
      "\n",
      "../../../images/validation/Organic Waste\\O_13720.jpg\n",
      "object_class: maraca\n",
      "Prediction: Garbage; True label: Organic Waste\n",
      "\n",
      "../../../images/validation/Organic Waste\\O_13831.jpg\n",
      "object_class: soap dispenser\n",
      "Prediction: Garbage; True label: Organic Waste\n",
      "\n",
      "../../../images/validation/Organic Waste\\O_13939.jpg\n",
      "object_class: pot\n",
      "Prediction: Garbage; True label: Organic Waste\n",
      "\n",
      "../../../images/validation/Organic Waste\\O_13941.jpg\n",
      "object_class: quill\n",
      "Prediction: Garbage; True label: Organic Waste\n",
      "\n",
      "../../../images/validation/Recyclable\\R_1962.jpg\n",
      "object_class: oil filter\n",
      "Prediction: Household hazardous waste; True label: Recyclable\n",
      "\n"
     ]
    }
   ],
   "source": [
    "labels = []\n",
    "predicted_classes = []\n",
    "model = 'efficientnet_v2_l'\n",
    "\n",
    "# loop through the directory and its subdirectories\n",
    "for root, dirs, files in os.walk(validation_dataset):\n",
    "    for file in files:\n",
    "        # check if the file extension is an image format\n",
    "        if file.lower().endswith((\".png\", \".jpg\", \".jpeg\", \".bmp\", \".gif\")):\n",
    "            # return the full path to the image file\n",
    "            image_path = os.path.join(root, file)\n",
    "            img = cv2.imread(image_path)\n",
    "            pil_image = Image.fromarray(img)\n",
    "            true_label = os.path.basename(root)\n",
    "            \n",
    "            results = ssd_preds([pil_image], model)[0]\n",
    "            predicted_label = results['object_trash_class']\n",
    "            object_class = results['object_class']\n",
    "            # add the true label and predicted label to the lists\n",
    "            labels.append(true_label)\n",
    "            predicted_classes.append(predicted_label)\n",
    "            if true_label != predicted_label:\n",
    "                print(image_path)\n",
    "                print(f'object_class: {object_class}')\n",
    "                print(f\"Prediction: {predicted_label}; True label: {true_label}\")\n",
    "                print()\n",
    "            \n",
    "    "
   ]
  },
  {
   "cell_type": "code",
   "execution_count": 13,
   "id": "62f462d9",
   "metadata": {},
   "outputs": [
    {
     "name": "stdout",
     "output_type": "stream",
     "text": [
      "Mean Average Precision: 0.84\n"
     ]
    }
   ],
   "source": [
    "import numpy as np\n",
    "from sklearn.preprocessing import label_binarize\n",
    "from sklearn.metrics import average_precision_score\n",
    "\n",
    "from sklearn.preprocessing import LabelEncoder\n",
    "\n",
    "# create a LabelEncoder object\n",
    "le = LabelEncoder()\n",
    "# fit the encoder to your labels and transform them\n",
    "labels_encoded = le.fit_transform(labels)\n",
    "# fit the encoder to your predicted classes and transform them\n",
    "predicted_classes_encoded = le.transform(predicted_classes)\n",
    "\n",
    "# convert the labels and predicted_classes lists to arrays\n",
    "labels_encoded = np.array(labels_encoded)\n",
    "predicted_classes_encoded = np.array(predicted_classes_encoded)\n",
    "\n",
    "# binarize the labels and predicted_classes arrays\n",
    "n_classes = len(set(labels_encoded))\n",
    "labels_bin = label_binarize(labels_encoded, classes=range(n_classes))\n",
    "predicted_classes_bin = label_binarize(predicted_classes_encoded, classes=range(n_classes))\n",
    "\n",
    "# compute the average precision score for each class\n",
    "average_precisions = []\n",
    "for i in range(n_classes):\n",
    "    average_precisions.append(average_precision_score(labels_bin[:, i], predicted_classes_bin[:, i]))\n",
    "\n",
    "# compute the mean average precision score\n",
    "mAP = np.mean(average_precisions)\n",
    "print(f\"Mean Average Precision: {mAP:.2f}\")\n"
   ]
  },
  {
   "cell_type": "code",
   "execution_count": 14,
   "id": "6abc0ac6",
   "metadata": {},
   "outputs": [
    {
     "name": "stderr",
     "output_type": "stream",
     "text": [
      "C:\\Users\\julian\\AppData\\Local\\Temp/ipykernel_11612/3172724690.py:6: MatplotlibDeprecationWarning: You are modifying the state of a globally registered colormap. This has been deprecated since 3.3 and in 3.6, you will not be able to modify a registered colormap in-place. To remove this warning, you can make a copy of the colormap first. cmap = mpl.cm.get_cmap(\"Blues\").copy()\n",
      "  cmap.set_bad(color='black')\n"
     ]
    },
    {
     "data": {
      "image/png": "[encoded data removed]",
      "text/plain": [
       "<Figure size 720x720 with 1 Axes>"
      ]
     },
     "metadata": {
      "needs_background": "light"
     },
     "output_type": "display_data"
    }
   ],
   "source": [
    "# compute the confusion matrix\n",
    "confusion = confusion_matrix(labels, predicted_classes)\n",
    "\n",
    "# plot the confusion matrix with custom color map\n",
    "cmap = plt.cm.Blues\n",
    "cmap.set_bad(color='black')\n",
    "fig, ax = plt.subplots(figsize=(10, 10))\n",
    "im = ax.imshow(confusion, cmap=cmap)\n",
    "\n",
    "# add labels and ticks to the plot\n",
    "classes = sorted(set(labels))\n",
    "ax.set_xticks(np.arange(len(classes)))\n",
    "ax.set_yticks(np.arange(len(classes)))\n",
    "ax.set_xticklabels(classes, fontsize=16, fontweight='bold', rotation=-90)\n",
    "ax.set_yticklabels(classes, fontsize=16, fontweight='bold')\n",
    "ax.set_xlabel('Predicted Label', fontsize=16, fontweight='bold')\n",
    "ax.set_ylabel('True Label', fontsize=16, fontweight='bold')\n",
    "\n",
    "# add the counts to the plot with better contrast\n",
    "for i in range(len(classes)):\n",
    "    for j in range(len(classes)):\n",
    "        text = ax.text(j, i, confusion[i, j],\n",
    "                       ha=\"center\", va=\"center\", color=\"w\", fontsize=16, fontweight='bold',\n",
    "                       bbox=dict(boxstyle='round', facecolor='black', edgecolor='none'))\n",
    "\n",
    "# add a title to the plot\n",
    "ax.set_title(f\"Confusion Matrix for {model}\\nmAP: {mAP:.2f}\", fontsize=18, fontweight='bold')\n",
    "\n",
    "# show the plot\n",
    "plt.show()"
   ]
  },
  {
   "cell_type": "code",
   "execution_count": null,
   "id": "54dd3bb5",
   "metadata": {},
   "outputs": [],
   "source": []
  }
 ],
 "metadata": {
  "kernelspec": {
   "display_name": "Python 3 (ipykernel)",
   "language": "python",
   "name": "python3"
  },
  "language_info": {
   "codemirror_mode": {
    "name": "ipython",
    "version": 3
   },
   "file_extension": ".py",
   "mimetype": "text/x-python",
   "name": "python",
   "nbconvert_exporter": "python",
   "pygments_lexer": "ipython3",
   "version": "3.9.7"
  }
 },
 "nbformat": 4,
 "nbformat_minor": 5
}
